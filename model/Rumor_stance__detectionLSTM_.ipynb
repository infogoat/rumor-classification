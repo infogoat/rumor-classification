{
  "cells": [
    {
      "cell_type": "code",
      "execution_count": null,
      "metadata": {
        "colab": {
          "base_uri": "https://localhost:8080/"
        },
        "id": "1-dZ5JOwls9_",
        "outputId": "ac995e73-9e8e-4bf0-ef4e-11c5a6adbba0"
      },
      "outputs": [
        {
          "name": "stderr",
          "output_type": "stream",
          "text": [
            "[nltk_data] Downloading package stopwords to /root/nltk_data...\n",
            "[nltk_data]   Unzipping corpora/stopwords.zip.\n"
          ]
        },
        {
          "data": {
            "text/plain": [
              "True"
            ]
          },
          "execution_count": 1,
          "metadata": {},
          "output_type": "execute_result"
        }
      ],
      "source": [
        "import pandas as pd\n",
        "import numpy as np\n",
        "import itertools\n",
        "import seaborn as sns\n",
        "import nltk, re, string\n",
        "from string import punctuation\n",
        "from nltk.corpus import stopwords\n",
        "from sklearn import metrics\n",
        "import matplotlib.pyplot as plt\n",
        "from wordcloud import WordCloud,STOPWORDS\n",
        "from sklearn.metrics import classification_report,confusion_matrix,accuracy_score,roc_auc_score\n",
        "from sklearn.model_selection import train_test_split\n",
        "from keras.models import Model\n",
        "from keras.layers import Dense, Embedding, Input,LSTM, Bidirectional, GlobalMaxPool1D, Dropout\n",
        "from tensorflow.keras.preprocessing.text import Tokenizer\n",
        "from tensorflow.keras.preprocessing.sequence import pad_sequences\n",
        "nltk.download('stopwords')"
      ]
    },
    {
      "cell_type": "code",
      "execution_count": null,
      "metadata": {
        "colab": {
          "base_uri": "https://localhost:8080/"
        },
        "id": "9bLMzfxA-CKW",
        "outputId": "0006e3e1-b1db-420b-eeb8-79fdf0b656e0"
      },
      "outputs": [
        {
          "name": "stdout",
          "output_type": "stream",
          "text": [
            "Mounted at /content/drive\n"
          ]
        }
      ],
      "source": [
        "from google.colab import drive\n",
        "drive.mount('/content/drive')"
      ]
    },
    {
      "cell_type": "code",
      "execution_count": null,
      "metadata": {
        "colab": {
          "base_uri": "https://localhost:8080/",
          "height": 206
        },
        "id": "Ln2Q-NUq-B9X",
        "outputId": "e4c231d1-310f-4aac-e206-48da7a172bb8"
      },
      "outputs": [
        {
          "data": {
            "application/vnd.google.colaboratory.intrinsic+json": {
              "summary": "{\n  \"name\": \"df\",\n  \"rows\": 44967,\n  \"fields\": [\n    {\n      \"column\": \"title\",\n      \"properties\": {\n        \"dtype\": \"string\",\n        \"num_unique_values\": 38780,\n        \"samples\": [\n          \"Ukraine president hopes to secure defensive weapons from Western allies\",\n          \"Meeting on North Korea crisis to be in Canada after Christmas: source\",\n          \" Angry Constituents HILARIOUSLY Shame Their GOP Reps For Being Too Cowardly To Face Them (IMAGES)\"\n        ],\n        \"semantic_type\": \"\",\n        \"description\": \"\"\n      }\n    },\n    {\n      \"column\": \"text\",\n      \"properties\": {\n        \"dtype\": \"string\",\n        \"num_unique_values\": 38697,\n        \"samples\": [\n          \"Because everyone deserves a  safe space right? The White Student Union (WSU) at the University of California, Santa Barbara (UCSB), a new student club dedicated to creating a  safe, supportive and inclusive student community of European descent,  has recently released a  list of demands  that it expects the university to fulfill by the second week of the Winter quarter.The list protests anti-white  racism  and  marginalization  of students of European descent. Some of its demands include the creation of  white-student only rooms,  the hiring of  two permanent full-time admissions staff members of non self-hating Europe@n descent,  and the building of a white student center to be established and named  Napoleon Bonaparte Resource Center  among other demands. Here s the full list of demands for UCSB-WSU:FOR IMMEDIATE PRESS RELEASE:We, students of Europe@n descent at UCSB, refuse to accept the negative social climate created towards our peers of Europe@n descent and other marginalized groups. We have begun this movement, UCSB White Student Union, in an effort to change the status quo for a more just and inclusive environment within our campus. We demand that UCSB become a leader in the fight to promote a better social climate towards individuals who have been systematically oppressed. Student leaders acknowledge and support the demands previously stated and currently being presented. Furthermore, we demand that UCSB acknowledge its ethical and moral responsibilities as an institution and community of our world. UCSB should not be complicit in oppressive organizations and systems, no less.We as a compassionate student body have gathered to address the legacy of oppression against persons of Europe@n descent (PED) on campus. If these goals are not initiated within the next quarter, and completed by the second week of Winter Quarter, we will organize and respond by respectfully complaining.WE DEMAND the designation of four white-student only rooms at UCSB in the Anacapa Dorms that will be used by Cultural Affinity groups to provide a safe space for those who wish to learn about and celebrate Europe@n heritages and traditions, to be called the Hernan Cortes housing commons. UCSB White Student Union (WSU) members will be involved in a working group with the staff of the Residency department to begin discussions on the viability of the formation of Affinity Housing for those interested in European culture.WE DEMAND the creation of a White Student Development Resource Center, to be named the Napoleon Bonaparte Resource Center, with a designated office space as well as safe space for hosting events, at a central campus location. This center is to be under the purview of the White Student Development Office, which is to be formed immediately. A shocking 67% of students of Europe@n descent report being othered and marginalized because of their white identity and Europe@n heritage. Some reasons for this are lack of adequate academic, financial and organizational support, and feelings of isolation from other students proud of their Europe@n heritage throughout the university. The resource center will serve as a space on campus for white students to gather, host programming, and to offer support to white student organizations, all contributing to community building, increased stability, and a greater feeling of belonging at the university.WE DEMAND the hiring of two permanent full-time admissions staff members of non self-hating Europe@n descent and a series of enhanced recruitment strategies, with a budget of $300,371, to recruit students of Europe@n descent to UCSB. We maintain that this funding comes from the Chancellor s office and not from the division of Student Affairs. These funds will be managed through the office of Admissions & Enrollment This funding will be used to bolster efforts in the Office of Undergraduate Admissions and bridges Multicultural Resource Center. The recruitment of additional students of Europe@n descent is imperative to create a student body that is representative of the California population. A critical mass of students of Europe@n descent will surely help to alleviate the incredibly hostile campus climate white students have had to endure for decades as consistently evidenced by campus climate surveys. While there are already staff of Europe@n descent, many of them are self-hating PED who do not effectively promote the interests of students of Europe@n descent.WE DEMAND that UCSB provide an additional stipend to campus police officers to patrol campus grounds and the Isla Vista community in an effort to more effectively discover and subsequently root out and punish any and all forms of speech that are deemed offensive to students of Europe@n descent, including but not limited to:  Cracker,   Stupid white people ;  OMG, you are so white ;  Where are you from? ;  No, I mean like what part of Europe? ;  Wow, I bet you get sunburned really easily! ;  you wouldn t understand because you re white ;  don t eat this; it s too spicy for you ;  honky (and any variants thereof) ;  Surrendering like a Frenchman! ; and so forth. Currently, campus police officers are simply not equipped to provide UCSB white students a safe space. Saying any of the things listed above should merit immediate expulsion and arrest in order to effectively maintain a s@fe space.WE DEMAND that UCSB and campus police immediately prohibit on pain of expulsion and imprisonment any future parties and other festivities at UCSB or in Isla Vista that have the following (non-exhaustive list of) themes that may further marginalize and trigger white identities and white-identified students: Charlie Sheen Theme; a France Theme; a Britain Theme; a St. Patrick s Day Theme; an Irish Theme; a Scotland Theme; a Spain Theme; an Andorra Theme; a Switzerland Theme; a Swiss Theme; a Belgium Theme; a German Theme; an Austria Theme; an Italy Theme; a  King and Queen  Theme; a Catholics vs. Protestants Theme; a George Washington Theme; a Colonial Theme; a Pirate Theme; a Denmark Theme; a Finland Theme; an Iceland Theme; a Portugal Theme; an Oktoberfest Theme; a Ukraine Theme; a Belarus Theme; a Hungary Theme; a Slovakia Theme; a Czech Republic Theme; a Norway Theme; a Croatia Theme; a Bulgaria Theme; a Russia Theme; a Serbia Theme; a Greece Theme; a Netherlands Theme; a Luxembourg Theme; an Albania Theme (especially as relates to the movie  Taken ); and so forth.WE DEMAND the creation and implementation of a mandatory White Cultural Competency Training and a Diversity Requirement, which all students and all faculty must go through to enter UCSB to foster a more diverse and inclusive environment. The requirement and training will teach participants how to appreciate and uphold Europe@n cultures on campus and will also outline what phrases and words (earlier mentioned) to avoid saying to prevent triggering white-identified students and to avoid the further marginalization of white identities at UCSB.Lastly, WE DEMAND that all UCSB administrators and faculty issue a statement of apology to faculty, staff and administrators of Europe@n descent as well as their allies, neither of whom were provided a safe space for them to thrive while at UCSB.Several items on the list look similar to those created by black separatist groups such as the Black Student Union (BSU) and the Afrikan Student Association (ASA). Here is a list of demands made by black students earlier this year, in which the Afrikan Black Coalition (ABC) at the University of California (UC), Berkeley demanded that a campus building called Barrows Hall be changed to Assata Shakur Hall after FBI-listed terrorist and Black Panther activist Assata Shakur.Many Americans are wondering if the White Student Union s activism, which includes a  White Student Walk Out  scheduled for this upcoming January, will play out similarly to student uprisings led by black separatist groups, with some even predicting that a white student uprising in response to the recent events at Mizzou would take place:A student member of the UCSB-WSU told The Daily Wire that the group is necessary in order to protect  white-identified  UCSB students from anti-white oppression and  marginalization. After realizing the rampant amount of marginalization, oppression, and othering of white-identified students, we knew we had to act to protect persons of Europe@n descent (PED) at UCSB. We hope that these demands are heard and carried out by UCSB. The safety of students of Europe@n descent depends on this. We feel that our voices need to be heard. Instead, they have been silenced and we have been subjected to hateful vitriol merely for wanting a s@fe space.  Via: Daily Wire\",\n          \"ROME (Reuters) - Rome s mayor on Friday launched an attempt to save the city s ailing public transport company from bankruptcy, asking creditors to support a restructuring of its 1.3 billion euros ($1.54 billion) of debt. Virginia Raggi, a prominent face of Italy s anti-establishment 5-Star Movement, said she would ask magistrates to approve the plan for a  total renewal  of the company to keep it operating as a public body. Atac s workforce, of around 12,000 people, has been criticized as bloated and its fleet of buses, trams and metros as old and badly maintained. Calls have grown for it to be privatized. Raggi, who was elected in June last year, rejects this solution and on Friday the company s board approved the restructuring plan, which will require the backing of her city government and its suppliers.  Atac must remain public,  Raggi wrote in a Facebook post.  We are beginning a revolution that will transform the biggest public transport company in Europe into an efficient one.  Several city transport unions, fearing lay-offs, immediately announced they would hold a one-day strike this month. Turning Atac around is a daunting task. Its former chief quit in July after just three months in the job, saying he was unable to salvage the firm and feared possible legal action tied to any eventual collapse. Raggi has had a torrid time since becoming Rome s first ever woman mayor. She has lost several close aides due to political infighting or legal scandals and has so far made little tangible progress in fixing the heavily-indebted city s chronic problems, from road maintenance to refuse collection. Despite her difficulties, 5-Star remains Italy s most popular party, according to many opinion polls, and Raggi s fortunes in attempting to clean up Atac could have significant repercussions nationally. With a general election due by May next year, 5-Star can ill afford the bad publicity of extended strikes and legal disputes over the capital s transport company. \",\n          \"Rick Santorum has been whining about not getting attention from the media, so Bill O Reilly hilarious broke the news to the conservative extremist candidate that nobody cares about him anymore.Earlier this week, Santorum accused the media of  predetermining  the presidential race before Iowans vote. Santorum then complained about never being invited on Fox News to be interviewed by Megyn Kelly or Bill O Reilly despite announcing his campaign last May.As you ll recall, Santorum ran for president in 2012 and nearly captured the Republican nomination, which is in stark contrast to 2016 as his latest campaign is nothing short of an absolute joke. Santorum has been unable to climb out of the low single digits in the polls, even though he has name recognition and conservative voters surely remember who he is.But clearly, things have changed in four years and Santorum is no longer the golden boy of the conservative movement. That mantle is now owned by Donald Trump and to a lesser extent, Ted Cruz. A fact which O Reilly broke down for Santorum in simple words so he could understand: I feel Rick Santorum s pain,  O Reilly said. He is absolutely correct; we have not had him on The Factor. But there is a reason for that. We re not in the campaigning business. We do not put politicians on the air simply to spout their slogans. That s what ads are for. We cover the news and when a politician is in the news then they get on the program. That s why Donald Trump gets so much air time. He s dominating the news cycle by injecting controversy into the political arena. Then O Reilly dropped the hammer on Santorum and his remaining hopes to revive his struggling campaign. Honestly, we looked for a reason to put Santorum on, but we couldn t find any. His poll numbers are very low, his campaign strategy is what it was four years ago. There s simply nothing new. Here s the video via YouTube:Poor Rick Santorum. He ll just have settle for being number one on Google for all the wrong reasons.Featured image via Wikimedia\"\n        ],\n        \"semantic_type\": \"\",\n        \"description\": \"\"\n      }\n    },\n    {\n      \"column\": \"label\",\n      \"properties\": {\n        \"dtype\": \"category\",\n        \"num_unique_values\": 2,\n        \"samples\": [\n          \"FAKE\",\n          \"TRUE\"\n        ],\n        \"semantic_type\": \"\",\n        \"description\": \"\"\n      }\n    }\n  ]\n}",
              "type": "dataframe",
              "variable_name": "df"
            },
            "text/html": [
              "\n",
              "  <div id=\"df-a6f06b7c-4bcb-4837-bc20-1bda9f2e4eaf\" class=\"colab-df-container\">\n",
              "    <div>\n",
              "<style scoped>\n",
              "    .dataframe tbody tr th:only-of-type {\n",
              "        vertical-align: middle;\n",
              "    }\n",
              "\n",
              "    .dataframe tbody tr th {\n",
              "        vertical-align: top;\n",
              "    }\n",
              "\n",
              "    .dataframe thead th {\n",
              "        text-align: right;\n",
              "    }\n",
              "</style>\n",
              "<table border=\"1\" class=\"dataframe\">\n",
              "  <thead>\n",
              "    <tr style=\"text-align: right;\">\n",
              "      <th></th>\n",
              "      <th>title</th>\n",
              "      <th>text</th>\n",
              "      <th>label</th>\n",
              "    </tr>\n",
              "  </thead>\n",
              "  <tbody>\n",
              "    <tr>\n",
              "      <th>0</th>\n",
              "      <td>As U.S. budget fight looms, Republicans flip t...</td>\n",
              "      <td>WASHINGTON (Reuters) - The head of a conservat...</td>\n",
              "      <td>TRUE</td>\n",
              "    </tr>\n",
              "    <tr>\n",
              "      <th>1</th>\n",
              "      <td>U.S. military to accept transgender recruits o...</td>\n",
              "      <td>WASHINGTON (Reuters) - Transgender people will...</td>\n",
              "      <td>TRUE</td>\n",
              "    </tr>\n",
              "    <tr>\n",
              "      <th>2</th>\n",
              "      <td>Senior U.S. Republican senator: 'Let Mr. Muell...</td>\n",
              "      <td>WASHINGTON (Reuters) - The special counsel inv...</td>\n",
              "      <td>TRUE</td>\n",
              "    </tr>\n",
              "    <tr>\n",
              "      <th>3</th>\n",
              "      <td>FBI Russia probe helped by Australian diplomat...</td>\n",
              "      <td>WASHINGTON (Reuters) - Trump campaign adviser ...</td>\n",
              "      <td>TRUE</td>\n",
              "    </tr>\n",
              "    <tr>\n",
              "      <th>4</th>\n",
              "      <td>Trump wants Postal Service to charge 'much mor...</td>\n",
              "      <td>SEATTLE/WASHINGTON (Reuters) - President Donal...</td>\n",
              "      <td>TRUE</td>\n",
              "    </tr>\n",
              "  </tbody>\n",
              "</table>\n",
              "</div>\n",
              "    <div class=\"colab-df-buttons\">\n",
              "\n",
              "  <div class=\"colab-df-container\">\n",
              "    <button class=\"colab-df-convert\" onclick=\"convertToInteractive('df-a6f06b7c-4bcb-4837-bc20-1bda9f2e4eaf')\"\n",
              "            title=\"Convert this dataframe to an interactive table.\"\n",
              "            style=\"display:none;\">\n",
              "\n",
              "  <svg xmlns=\"http://www.w3.org/2000/svg\" height=\"24px\" viewBox=\"0 -960 960 960\">\n",
              "    <path d=\"M120-120v-720h720v720H120Zm60-500h600v-160H180v160Zm220 220h160v-160H400v160Zm0 220h160v-160H400v160ZM180-400h160v-160H180v160Zm440 0h160v-160H620v160ZM180-180h160v-160H180v160Zm440 0h160v-160H620v160Z\"/>\n",
              "  </svg>\n",
              "    </button>\n",
              "\n",
              "  <style>\n",
              "    .colab-df-container {\n",
              "      display:flex;\n",
              "      gap: 12px;\n",
              "    }\n",
              "\n",
              "    .colab-df-convert {\n",
              "      background-color: #E8F0FE;\n",
              "      border: none;\n",
              "      border-radius: 50%;\n",
              "      cursor: pointer;\n",
              "      display: none;\n",
              "      fill: #1967D2;\n",
              "      height: 32px;\n",
              "      padding: 0 0 0 0;\n",
              "      width: 32px;\n",
              "    }\n",
              "\n",
              "    .colab-df-convert:hover {\n",
              "      background-color: #E2EBFA;\n",
              "      box-shadow: 0px 1px 2px rgba(60, 64, 67, 0.3), 0px 1px 3px 1px rgba(60, 64, 67, 0.15);\n",
              "      fill: #174EA6;\n",
              "    }\n",
              "\n",
              "    .colab-df-buttons div {\n",
              "      margin-bottom: 4px;\n",
              "    }\n",
              "\n",
              "    [theme=dark] .colab-df-convert {\n",
              "      background-color: #3B4455;\n",
              "      fill: #D2E3FC;\n",
              "    }\n",
              "\n",
              "    [theme=dark] .colab-df-convert:hover {\n",
              "      background-color: #434B5C;\n",
              "      box-shadow: 0px 1px 3px 1px rgba(0, 0, 0, 0.15);\n",
              "      filter: drop-shadow(0px 1px 2px rgba(0, 0, 0, 0.3));\n",
              "      fill: #FFFFFF;\n",
              "    }\n",
              "  </style>\n",
              "\n",
              "    <script>\n",
              "      const buttonEl =\n",
              "        document.querySelector('#df-a6f06b7c-4bcb-4837-bc20-1bda9f2e4eaf button.colab-df-convert');\n",
              "      buttonEl.style.display =\n",
              "        google.colab.kernel.accessAllowed ? 'block' : 'none';\n",
              "\n",
              "      async function convertToInteractive(key) {\n",
              "        const element = document.querySelector('#df-a6f06b7c-4bcb-4837-bc20-1bda9f2e4eaf');\n",
              "        const dataTable =\n",
              "          await google.colab.kernel.invokeFunction('convertToInteractive',\n",
              "                                                    [key], {});\n",
              "        if (!dataTable) return;\n",
              "\n",
              "        const docLinkHtml = 'Like what you see? Visit the ' +\n",
              "          '<a target=\"_blank\" href=https://colab.research.google.com/notebooks/data_table.ipynb>data table notebook</a>'\n",
              "          + ' to learn more about interactive tables.';\n",
              "        element.innerHTML = '';\n",
              "        dataTable['output_type'] = 'display_data';\n",
              "        await google.colab.output.renderOutput(dataTable, element);\n",
              "        const docLink = document.createElement('div');\n",
              "        docLink.innerHTML = docLinkHtml;\n",
              "        element.appendChild(docLink);\n",
              "      }\n",
              "    </script>\n",
              "  </div>\n",
              "\n",
              "\n",
              "<div id=\"df-fd756154-e3a9-4f92-b7a7-14090fccf3fc\">\n",
              "  <button class=\"colab-df-quickchart\" onclick=\"quickchart('df-fd756154-e3a9-4f92-b7a7-14090fccf3fc')\"\n",
              "            title=\"Suggest charts\"\n",
              "            style=\"display:none;\">\n",
              "\n",
              "<svg xmlns=\"http://www.w3.org/2000/svg\" height=\"24px\"viewBox=\"0 0 24 24\"\n",
              "     width=\"24px\">\n",
              "    <g>\n",
              "        <path d=\"M19 3H5c-1.1 0-2 .9-2 2v14c0 1.1.9 2 2 2h14c1.1 0 2-.9 2-2V5c0-1.1-.9-2-2-2zM9 17H7v-7h2v7zm4 0h-2V7h2v10zm4 0h-2v-4h2v4z\"/>\n",
              "    </g>\n",
              "</svg>\n",
              "  </button>\n",
              "\n",
              "<style>\n",
              "  .colab-df-quickchart {\n",
              "      --bg-color: #E8F0FE;\n",
              "      --fill-color: #1967D2;\n",
              "      --hover-bg-color: #E2EBFA;\n",
              "      --hover-fill-color: #174EA6;\n",
              "      --disabled-fill-color: #AAA;\n",
              "      --disabled-bg-color: #DDD;\n",
              "  }\n",
              "\n",
              "  [theme=dark] .colab-df-quickchart {\n",
              "      --bg-color: #3B4455;\n",
              "      --fill-color: #D2E3FC;\n",
              "      --hover-bg-color: #434B5C;\n",
              "      --hover-fill-color: #FFFFFF;\n",
              "      --disabled-bg-color: #3B4455;\n",
              "      --disabled-fill-color: #666;\n",
              "  }\n",
              "\n",
              "  .colab-df-quickchart {\n",
              "    background-color: var(--bg-color);\n",
              "    border: none;\n",
              "    border-radius: 50%;\n",
              "    cursor: pointer;\n",
              "    display: none;\n",
              "    fill: var(--fill-color);\n",
              "    height: 32px;\n",
              "    padding: 0;\n",
              "    width: 32px;\n",
              "  }\n",
              "\n",
              "  .colab-df-quickchart:hover {\n",
              "    background-color: var(--hover-bg-color);\n",
              "    box-shadow: 0 1px 2px rgba(60, 64, 67, 0.3), 0 1px 3px 1px rgba(60, 64, 67, 0.15);\n",
              "    fill: var(--button-hover-fill-color);\n",
              "  }\n",
              "\n",
              "  .colab-df-quickchart-complete:disabled,\n",
              "  .colab-df-quickchart-complete:disabled:hover {\n",
              "    background-color: var(--disabled-bg-color);\n",
              "    fill: var(--disabled-fill-color);\n",
              "    box-shadow: none;\n",
              "  }\n",
              "\n",
              "  .colab-df-spinner {\n",
              "    border: 2px solid var(--fill-color);\n",
              "    border-color: transparent;\n",
              "    border-bottom-color: var(--fill-color);\n",
              "    animation:\n",
              "      spin 1s steps(1) infinite;\n",
              "  }\n",
              "\n",
              "  @keyframes spin {\n",
              "    0% {\n",
              "      border-color: transparent;\n",
              "      border-bottom-color: var(--fill-color);\n",
              "      border-left-color: var(--fill-color);\n",
              "    }\n",
              "    20% {\n",
              "      border-color: transparent;\n",
              "      border-left-color: var(--fill-color);\n",
              "      border-top-color: var(--fill-color);\n",
              "    }\n",
              "    30% {\n",
              "      border-color: transparent;\n",
              "      border-left-color: var(--fill-color);\n",
              "      border-top-color: var(--fill-color);\n",
              "      border-right-color: var(--fill-color);\n",
              "    }\n",
              "    40% {\n",
              "      border-color: transparent;\n",
              "      border-right-color: var(--fill-color);\n",
              "      border-top-color: var(--fill-color);\n",
              "    }\n",
              "    60% {\n",
              "      border-color: transparent;\n",
              "      border-right-color: var(--fill-color);\n",
              "    }\n",
              "    80% {\n",
              "      border-color: transparent;\n",
              "      border-right-color: var(--fill-color);\n",
              "      border-bottom-color: var(--fill-color);\n",
              "    }\n",
              "    90% {\n",
              "      border-color: transparent;\n",
              "      border-bottom-color: var(--fill-color);\n",
              "    }\n",
              "  }\n",
              "</style>\n",
              "\n",
              "  <script>\n",
              "    async function quickchart(key) {\n",
              "      const quickchartButtonEl =\n",
              "        document.querySelector('#' + key + ' button');\n",
              "      quickchartButtonEl.disabled = true;  // To prevent multiple clicks.\n",
              "      quickchartButtonEl.classList.add('colab-df-spinner');\n",
              "      try {\n",
              "        const charts = await google.colab.kernel.invokeFunction(\n",
              "            'suggestCharts', [key], {});\n",
              "      } catch (error) {\n",
              "        console.error('Error during call to suggestCharts:', error);\n",
              "      }\n",
              "      quickchartButtonEl.classList.remove('colab-df-spinner');\n",
              "      quickchartButtonEl.classList.add('colab-df-quickchart-complete');\n",
              "    }\n",
              "    (() => {\n",
              "      let quickchartButtonEl =\n",
              "        document.querySelector('#df-fd756154-e3a9-4f92-b7a7-14090fccf3fc button');\n",
              "      quickchartButtonEl.style.display =\n",
              "        google.colab.kernel.accessAllowed ? 'block' : 'none';\n",
              "    })();\n",
              "  </script>\n",
              "</div>\n",
              "\n",
              "    </div>\n",
              "  </div>\n"
            ],
            "text/plain": [
              "                                               title  \\\n",
              "0  As U.S. budget fight looms, Republicans flip t...   \n",
              "1  U.S. military to accept transgender recruits o...   \n",
              "2  Senior U.S. Republican senator: 'Let Mr. Muell...   \n",
              "3  FBI Russia probe helped by Australian diplomat...   \n",
              "4  Trump wants Postal Service to charge 'much mor...   \n",
              "\n",
              "                                                text label  \n",
              "0  WASHINGTON (Reuters) - The head of a conservat...  TRUE  \n",
              "1  WASHINGTON (Reuters) - Transgender people will...  TRUE  \n",
              "2  WASHINGTON (Reuters) - The special counsel inv...  TRUE  \n",
              "3  WASHINGTON (Reuters) - Trump campaign adviser ...  TRUE  \n",
              "4  SEATTLE/WASHINGTON (Reuters) - President Donal...  TRUE  "
            ]
          },
          "execution_count": 3,
          "metadata": {},
          "output_type": "execute_result"
        }
      ],
      "source": [
        "df = pd.read_csv('/content/drive/MyDrive/fake_newsdata.csv')\n",
        "\n",
        "df.head()"
      ]
    },
    {
      "cell_type": "code",
      "execution_count": null,
      "metadata": {
        "id": "nPo-xWJ2-BwV"
      },
      "outputs": [],
      "source": [
        "# removing news source info from text\n",
        "def extract_txt(text):\n",
        "    regex = re.search(r\"(?<=\\(Reuters\\)\\s\\-\\s).*\",text)\n",
        "    if regex:\n",
        "        return regex.group(0)\n",
        "    return text\n",
        "df['text_processed'] = df['text'].apply(extract_txt)"
      ]
    },
    {
      "cell_type": "code",
      "execution_count": null,
      "metadata": {
        "colab": {
          "base_uri": "https://localhost:8080/",
          "height": 293
        },
        "id": "TTlsIi1u-BHM",
        "outputId": "e0918c3b-985e-4cd9-883f-bbfcd7671737"
      },
      "outputs": [
        {
          "data": {
            "application/vnd.google.colaboratory.intrinsic+json": {
              "summary": "{\n  \"name\": \"df\",\n  \"rows\": 44967,\n  \"fields\": [\n    {\n      \"column\": \"title\",\n      \"properties\": {\n        \"dtype\": \"string\",\n        \"num_unique_values\": 38780,\n        \"samples\": [\n          \"Ukraine president hopes to secure defensive weapons from Western allies\",\n          \"Meeting on North Korea crisis to be in Canada after Christmas: source\",\n          \" Angry Constituents HILARIOUSLY Shame Their GOP Reps For Being Too Cowardly To Face Them (IMAGES)\"\n        ],\n        \"semantic_type\": \"\",\n        \"description\": \"\"\n      }\n    },\n    {\n      \"column\": \"text\",\n      \"properties\": {\n        \"dtype\": \"string\",\n        \"num_unique_values\": 38697,\n        \"samples\": [\n          \"Because everyone deserves a  safe space right? The White Student Union (WSU) at the University of California, Santa Barbara (UCSB), a new student club dedicated to creating a  safe, supportive and inclusive student community of European descent,  has recently released a  list of demands  that it expects the university to fulfill by the second week of the Winter quarter.The list protests anti-white  racism  and  marginalization  of students of European descent. Some of its demands include the creation of  white-student only rooms,  the hiring of  two permanent full-time admissions staff members of non self-hating Europe@n descent,  and the building of a white student center to be established and named  Napoleon Bonaparte Resource Center  among other demands. Here s the full list of demands for UCSB-WSU:FOR IMMEDIATE PRESS RELEASE:We, students of Europe@n descent at UCSB, refuse to accept the negative social climate created towards our peers of Europe@n descent and other marginalized groups. We have begun this movement, UCSB White Student Union, in an effort to change the status quo for a more just and inclusive environment within our campus. We demand that UCSB become a leader in the fight to promote a better social climate towards individuals who have been systematically oppressed. Student leaders acknowledge and support the demands previously stated and currently being presented. Furthermore, we demand that UCSB acknowledge its ethical and moral responsibilities as an institution and community of our world. UCSB should not be complicit in oppressive organizations and systems, no less.We as a compassionate student body have gathered to address the legacy of oppression against persons of Europe@n descent (PED) on campus. If these goals are not initiated within the next quarter, and completed by the second week of Winter Quarter, we will organize and respond by respectfully complaining.WE DEMAND the designation of four white-student only rooms at UCSB in the Anacapa Dorms that will be used by Cultural Affinity groups to provide a safe space for those who wish to learn about and celebrate Europe@n heritages and traditions, to be called the Hernan Cortes housing commons. UCSB White Student Union (WSU) members will be involved in a working group with the staff of the Residency department to begin discussions on the viability of the formation of Affinity Housing for those interested in European culture.WE DEMAND the creation of a White Student Development Resource Center, to be named the Napoleon Bonaparte Resource Center, with a designated office space as well as safe space for hosting events, at a central campus location. This center is to be under the purview of the White Student Development Office, which is to be formed immediately. A shocking 67% of students of Europe@n descent report being othered and marginalized because of their white identity and Europe@n heritage. Some reasons for this are lack of adequate academic, financial and organizational support, and feelings of isolation from other students proud of their Europe@n heritage throughout the university. The resource center will serve as a space on campus for white students to gather, host programming, and to offer support to white student organizations, all contributing to community building, increased stability, and a greater feeling of belonging at the university.WE DEMAND the hiring of two permanent full-time admissions staff members of non self-hating Europe@n descent and a series of enhanced recruitment strategies, with a budget of $300,371, to recruit students of Europe@n descent to UCSB. We maintain that this funding comes from the Chancellor s office and not from the division of Student Affairs. These funds will be managed through the office of Admissions & Enrollment This funding will be used to bolster efforts in the Office of Undergraduate Admissions and bridges Multicultural Resource Center. The recruitment of additional students of Europe@n descent is imperative to create a student body that is representative of the California population. A critical mass of students of Europe@n descent will surely help to alleviate the incredibly hostile campus climate white students have had to endure for decades as consistently evidenced by campus climate surveys. While there are already staff of Europe@n descent, many of them are self-hating PED who do not effectively promote the interests of students of Europe@n descent.WE DEMAND that UCSB provide an additional stipend to campus police officers to patrol campus grounds and the Isla Vista community in an effort to more effectively discover and subsequently root out and punish any and all forms of speech that are deemed offensive to students of Europe@n descent, including but not limited to:  Cracker,   Stupid white people ;  OMG, you are so white ;  Where are you from? ;  No, I mean like what part of Europe? ;  Wow, I bet you get sunburned really easily! ;  you wouldn t understand because you re white ;  don t eat this; it s too spicy for you ;  honky (and any variants thereof) ;  Surrendering like a Frenchman! ; and so forth. Currently, campus police officers are simply not equipped to provide UCSB white students a safe space. Saying any of the things listed above should merit immediate expulsion and arrest in order to effectively maintain a s@fe space.WE DEMAND that UCSB and campus police immediately prohibit on pain of expulsion and imprisonment any future parties and other festivities at UCSB or in Isla Vista that have the following (non-exhaustive list of) themes that may further marginalize and trigger white identities and white-identified students: Charlie Sheen Theme; a France Theme; a Britain Theme; a St. Patrick s Day Theme; an Irish Theme; a Scotland Theme; a Spain Theme; an Andorra Theme; a Switzerland Theme; a Swiss Theme; a Belgium Theme; a German Theme; an Austria Theme; an Italy Theme; a  King and Queen  Theme; a Catholics vs. Protestants Theme; a George Washington Theme; a Colonial Theme; a Pirate Theme; a Denmark Theme; a Finland Theme; an Iceland Theme; a Portugal Theme; an Oktoberfest Theme; a Ukraine Theme; a Belarus Theme; a Hungary Theme; a Slovakia Theme; a Czech Republic Theme; a Norway Theme; a Croatia Theme; a Bulgaria Theme; a Russia Theme; a Serbia Theme; a Greece Theme; a Netherlands Theme; a Luxembourg Theme; an Albania Theme (especially as relates to the movie  Taken ); and so forth.WE DEMAND the creation and implementation of a mandatory White Cultural Competency Training and a Diversity Requirement, which all students and all faculty must go through to enter UCSB to foster a more diverse and inclusive environment. The requirement and training will teach participants how to appreciate and uphold Europe@n cultures on campus and will also outline what phrases and words (earlier mentioned) to avoid saying to prevent triggering white-identified students and to avoid the further marginalization of white identities at UCSB.Lastly, WE DEMAND that all UCSB administrators and faculty issue a statement of apology to faculty, staff and administrators of Europe@n descent as well as their allies, neither of whom were provided a safe space for them to thrive while at UCSB.Several items on the list look similar to those created by black separatist groups such as the Black Student Union (BSU) and the Afrikan Student Association (ASA). Here is a list of demands made by black students earlier this year, in which the Afrikan Black Coalition (ABC) at the University of California (UC), Berkeley demanded that a campus building called Barrows Hall be changed to Assata Shakur Hall after FBI-listed terrorist and Black Panther activist Assata Shakur.Many Americans are wondering if the White Student Union s activism, which includes a  White Student Walk Out  scheduled for this upcoming January, will play out similarly to student uprisings led by black separatist groups, with some even predicting that a white student uprising in response to the recent events at Mizzou would take place:A student member of the UCSB-WSU told The Daily Wire that the group is necessary in order to protect  white-identified  UCSB students from anti-white oppression and  marginalization. After realizing the rampant amount of marginalization, oppression, and othering of white-identified students, we knew we had to act to protect persons of Europe@n descent (PED) at UCSB. We hope that these demands are heard and carried out by UCSB. The safety of students of Europe@n descent depends on this. We feel that our voices need to be heard. Instead, they have been silenced and we have been subjected to hateful vitriol merely for wanting a s@fe space.  Via: Daily Wire\",\n          \"ROME (Reuters) - Rome s mayor on Friday launched an attempt to save the city s ailing public transport company from bankruptcy, asking creditors to support a restructuring of its 1.3 billion euros ($1.54 billion) of debt. Virginia Raggi, a prominent face of Italy s anti-establishment 5-Star Movement, said she would ask magistrates to approve the plan for a  total renewal  of the company to keep it operating as a public body. Atac s workforce, of around 12,000 people, has been criticized as bloated and its fleet of buses, trams and metros as old and badly maintained. Calls have grown for it to be privatized. Raggi, who was elected in June last year, rejects this solution and on Friday the company s board approved the restructuring plan, which will require the backing of her city government and its suppliers.  Atac must remain public,  Raggi wrote in a Facebook post.  We are beginning a revolution that will transform the biggest public transport company in Europe into an efficient one.  Several city transport unions, fearing lay-offs, immediately announced they would hold a one-day strike this month. Turning Atac around is a daunting task. Its former chief quit in July after just three months in the job, saying he was unable to salvage the firm and feared possible legal action tied to any eventual collapse. Raggi has had a torrid time since becoming Rome s first ever woman mayor. She has lost several close aides due to political infighting or legal scandals and has so far made little tangible progress in fixing the heavily-indebted city s chronic problems, from road maintenance to refuse collection. Despite her difficulties, 5-Star remains Italy s most popular party, according to many opinion polls, and Raggi s fortunes in attempting to clean up Atac could have significant repercussions nationally. With a general election due by May next year, 5-Star can ill afford the bad publicity of extended strikes and legal disputes over the capital s transport company. \",\n          \"Rick Santorum has been whining about not getting attention from the media, so Bill O Reilly hilarious broke the news to the conservative extremist candidate that nobody cares about him anymore.Earlier this week, Santorum accused the media of  predetermining  the presidential race before Iowans vote. Santorum then complained about never being invited on Fox News to be interviewed by Megyn Kelly or Bill O Reilly despite announcing his campaign last May.As you ll recall, Santorum ran for president in 2012 and nearly captured the Republican nomination, which is in stark contrast to 2016 as his latest campaign is nothing short of an absolute joke. Santorum has been unable to climb out of the low single digits in the polls, even though he has name recognition and conservative voters surely remember who he is.But clearly, things have changed in four years and Santorum is no longer the golden boy of the conservative movement. That mantle is now owned by Donald Trump and to a lesser extent, Ted Cruz. A fact which O Reilly broke down for Santorum in simple words so he could understand: I feel Rick Santorum s pain,  O Reilly said. He is absolutely correct; we have not had him on The Factor. But there is a reason for that. We re not in the campaigning business. We do not put politicians on the air simply to spout their slogans. That s what ads are for. We cover the news and when a politician is in the news then they get on the program. That s why Donald Trump gets so much air time. He s dominating the news cycle by injecting controversy into the political arena. Then O Reilly dropped the hammer on Santorum and his remaining hopes to revive his struggling campaign. Honestly, we looked for a reason to put Santorum on, but we couldn t find any. His poll numbers are very low, his campaign strategy is what it was four years ago. There s simply nothing new. Here s the video via YouTube:Poor Rick Santorum. He ll just have settle for being number one on Google for all the wrong reasons.Featured image via Wikimedia\"\n        ],\n        \"semantic_type\": \"\",\n        \"description\": \"\"\n      }\n    },\n    {\n      \"column\": \"label\",\n      \"properties\": {\n        \"dtype\": \"category\",\n        \"num_unique_values\": 2,\n        \"samples\": [\n          \"FAKE\",\n          \"TRUE\"\n        ],\n        \"semantic_type\": \"\",\n        \"description\": \"\"\n      }\n    },\n    {\n      \"column\": \"text_processed\",\n      \"properties\": {\n        \"dtype\": \"string\",\n        \"num_unique_values\": 38697,\n        \"samples\": [\n          \"Because everyone deserves a  safe space right? The White Student Union (WSU) at the University of California, Santa Barbara (UCSB), a new student club dedicated to creating a  safe, supportive and inclusive student community of European descent,  has recently released a  list of demands  that it expects the university to fulfill by the second week of the Winter quarter.The list protests anti-white  racism  and  marginalization  of students of European descent. Some of its demands include the creation of  white-student only rooms,  the hiring of  two permanent full-time admissions staff members of non self-hating Europe@n descent,  and the building of a white student center to be established and named  Napoleon Bonaparte Resource Center  among other demands. Here s the full list of demands for UCSB-WSU:FOR IMMEDIATE PRESS RELEASE:We, students of Europe@n descent at UCSB, refuse to accept the negative social climate created towards our peers of Europe@n descent and other marginalized groups. We have begun this movement, UCSB White Student Union, in an effort to change the status quo for a more just and inclusive environment within our campus. We demand that UCSB become a leader in the fight to promote a better social climate towards individuals who have been systematically oppressed. Student leaders acknowledge and support the demands previously stated and currently being presented. Furthermore, we demand that UCSB acknowledge its ethical and moral responsibilities as an institution and community of our world. UCSB should not be complicit in oppressive organizations and systems, no less.We as a compassionate student body have gathered to address the legacy of oppression against persons of Europe@n descent (PED) on campus. If these goals are not initiated within the next quarter, and completed by the second week of Winter Quarter, we will organize and respond by respectfully complaining.WE DEMAND the designation of four white-student only rooms at UCSB in the Anacapa Dorms that will be used by Cultural Affinity groups to provide a safe space for those who wish to learn about and celebrate Europe@n heritages and traditions, to be called the Hernan Cortes housing commons. UCSB White Student Union (WSU) members will be involved in a working group with the staff of the Residency department to begin discussions on the viability of the formation of Affinity Housing for those interested in European culture.WE DEMAND the creation of a White Student Development Resource Center, to be named the Napoleon Bonaparte Resource Center, with a designated office space as well as safe space for hosting events, at a central campus location. This center is to be under the purview of the White Student Development Office, which is to be formed immediately. A shocking 67% of students of Europe@n descent report being othered and marginalized because of their white identity and Europe@n heritage. Some reasons for this are lack of adequate academic, financial and organizational support, and feelings of isolation from other students proud of their Europe@n heritage throughout the university. The resource center will serve as a space on campus for white students to gather, host programming, and to offer support to white student organizations, all contributing to community building, increased stability, and a greater feeling of belonging at the university.WE DEMAND the hiring of two permanent full-time admissions staff members of non self-hating Europe@n descent and a series of enhanced recruitment strategies, with a budget of $300,371, to recruit students of Europe@n descent to UCSB. We maintain that this funding comes from the Chancellor s office and not from the division of Student Affairs. These funds will be managed through the office of Admissions & Enrollment This funding will be used to bolster efforts in the Office of Undergraduate Admissions and bridges Multicultural Resource Center. The recruitment of additional students of Europe@n descent is imperative to create a student body that is representative of the California population. A critical mass of students of Europe@n descent will surely help to alleviate the incredibly hostile campus climate white students have had to endure for decades as consistently evidenced by campus climate surveys. While there are already staff of Europe@n descent, many of them are self-hating PED who do not effectively promote the interests of students of Europe@n descent.WE DEMAND that UCSB provide an additional stipend to campus police officers to patrol campus grounds and the Isla Vista community in an effort to more effectively discover and subsequently root out and punish any and all forms of speech that are deemed offensive to students of Europe@n descent, including but not limited to:  Cracker,   Stupid white people ;  OMG, you are so white ;  Where are you from? ;  No, I mean like what part of Europe? ;  Wow, I bet you get sunburned really easily! ;  you wouldn t understand because you re white ;  don t eat this; it s too spicy for you ;  honky (and any variants thereof) ;  Surrendering like a Frenchman! ; and so forth. Currently, campus police officers are simply not equipped to provide UCSB white students a safe space. Saying any of the things listed above should merit immediate expulsion and arrest in order to effectively maintain a s@fe space.WE DEMAND that UCSB and campus police immediately prohibit on pain of expulsion and imprisonment any future parties and other festivities at UCSB or in Isla Vista that have the following (non-exhaustive list of) themes that may further marginalize and trigger white identities and white-identified students: Charlie Sheen Theme; a France Theme; a Britain Theme; a St. Patrick s Day Theme; an Irish Theme; a Scotland Theme; a Spain Theme; an Andorra Theme; a Switzerland Theme; a Swiss Theme; a Belgium Theme; a German Theme; an Austria Theme; an Italy Theme; a  King and Queen  Theme; a Catholics vs. Protestants Theme; a George Washington Theme; a Colonial Theme; a Pirate Theme; a Denmark Theme; a Finland Theme; an Iceland Theme; a Portugal Theme; an Oktoberfest Theme; a Ukraine Theme; a Belarus Theme; a Hungary Theme; a Slovakia Theme; a Czech Republic Theme; a Norway Theme; a Croatia Theme; a Bulgaria Theme; a Russia Theme; a Serbia Theme; a Greece Theme; a Netherlands Theme; a Luxembourg Theme; an Albania Theme (especially as relates to the movie  Taken ); and so forth.WE DEMAND the creation and implementation of a mandatory White Cultural Competency Training and a Diversity Requirement, which all students and all faculty must go through to enter UCSB to foster a more diverse and inclusive environment. The requirement and training will teach participants how to appreciate and uphold Europe@n cultures on campus and will also outline what phrases and words (earlier mentioned) to avoid saying to prevent triggering white-identified students and to avoid the further marginalization of white identities at UCSB.Lastly, WE DEMAND that all UCSB administrators and faculty issue a statement of apology to faculty, staff and administrators of Europe@n descent as well as their allies, neither of whom were provided a safe space for them to thrive while at UCSB.Several items on the list look similar to those created by black separatist groups such as the Black Student Union (BSU) and the Afrikan Student Association (ASA). Here is a list of demands made by black students earlier this year, in which the Afrikan Black Coalition (ABC) at the University of California (UC), Berkeley demanded that a campus building called Barrows Hall be changed to Assata Shakur Hall after FBI-listed terrorist and Black Panther activist Assata Shakur.Many Americans are wondering if the White Student Union s activism, which includes a  White Student Walk Out  scheduled for this upcoming January, will play out similarly to student uprisings led by black separatist groups, with some even predicting that a white student uprising in response to the recent events at Mizzou would take place:A student member of the UCSB-WSU told The Daily Wire that the group is necessary in order to protect  white-identified  UCSB students from anti-white oppression and  marginalization. After realizing the rampant amount of marginalization, oppression, and othering of white-identified students, we knew we had to act to protect persons of Europe@n descent (PED) at UCSB. We hope that these demands are heard and carried out by UCSB. The safety of students of Europe@n descent depends on this. We feel that our voices need to be heard. Instead, they have been silenced and we have been subjected to hateful vitriol merely for wanting a s@fe space.  Via: Daily Wire\",\n          \"Rome s mayor on Friday launched an attempt to save the city s ailing public transport company from bankruptcy, asking creditors to support a restructuring of its 1.3 billion euros ($1.54 billion) of debt. Virginia Raggi, a prominent face of Italy s anti-establishment 5-Star Movement, said she would ask magistrates to approve the plan for a  total renewal  of the company to keep it operating as a public body. Atac s workforce, of around 12,000 people, has been criticized as bloated and its fleet of buses, trams and metros as old and badly maintained. Calls have grown for it to be privatized. Raggi, who was elected in June last year, rejects this solution and on Friday the company s board approved the restructuring plan, which will require the backing of her city government and its suppliers.  Atac must remain public,  Raggi wrote in a Facebook post.  We are beginning a revolution that will transform the biggest public transport company in Europe into an efficient one.  Several city transport unions, fearing lay-offs, immediately announced they would hold a one-day strike this month. Turning Atac around is a daunting task. Its former chief quit in July after just three months in the job, saying he was unable to salvage the firm and feared possible legal action tied to any eventual collapse. Raggi has had a torrid time since becoming Rome s first ever woman mayor. She has lost several close aides due to political infighting or legal scandals and has so far made little tangible progress in fixing the heavily-indebted city s chronic problems, from road maintenance to refuse collection. Despite her difficulties, 5-Star remains Italy s most popular party, according to many opinion polls, and Raggi s fortunes in attempting to clean up Atac could have significant repercussions nationally. With a general election due by May next year, 5-Star can ill afford the bad publicity of extended strikes and legal disputes over the capital s transport company. \"\n        ],\n        \"semantic_type\": \"\",\n        \"description\": \"\"\n      }\n    },\n    {\n      \"column\": \"final_news\",\n      \"properties\": {\n        \"dtype\": \"string\",\n        \"num_unique_values\": 39156,\n        \"samples\": [\n          \"No sign U.S. wants to cancel nuclear deal with Iran: German minister German Foreign Minister Sigmar Gabriel said it was necessary to do everything possible to make progress on the nuclear deal with Iran and that he did not see any indications during a visit to the United States that Washington would terminate it. U.S. President Donald Trump said earlier on Thursday that \\u201cnothing is off the table\\u201d in dealing with Iran following its test launch of a ballistic missile. \",\n          \"Violence prompts U.S. Congress to discuss militant threats A U.S. congressional panel next month will hold a hearing on violent extremism, including threats from domestic militants, following a white supremacist rally in Charlottesville, Virginia, that turned deadly. The chairman of the U.S. House of Representatives Homeland Security Committee, Republican Michael McCaul, announced the Sept. 12 hearing in a letter to the panel\\u2019s top Democrat, Bennie Thompson. The committee holds a hearing once a year, around the anniversary of the Sept. 11, 2001, attacks, to discuss worldwide threats. A committee aide said the Charlottesville protests had  prompted the decision to broaden the hearing to include threats from domestic militants. But Thompson said the move was \\u201cnot adequate or appropriate\\u201d to address his request for a hearing on threats from white supremacists and neo-Nazi groups. \\u201cThe September 12 hearing to cover worldwide threats is an annual hearing that was already scheduled prior to the domestic attacks this weekend,\\u201d Thompson said. \\u201cIt will not allow us to go into the depth necessary to address the far-ranging and multifaceted aspects of the threat posed by domestic terrorist threats from white supremacist and neo-Nazi groups.\\u201d The Homeland Security Committee will invite leaders of the Homeland Security Department, the Federal Bureau of Investigation and the National Counterterrorism Center, McCaul said. \\u201cWe must stand together and reject racism, bigotry, and prejudice, including the hateful ideologies promoted by neo-Nazis, the KKK, and all other white supremacy groups,\\u201d McCaul wrote in his response to Democrats\\u2019 request for a hearing. A 32-year-old woman was killed on Saturday in Charlottesville when a car plowed into a rival protest to white supremacist demonstrators. A 20-year-old Ohio man said to have harbored Nazi sympathies has been charged with murder.  President Donald Trump on Tuesday said both sides were to blame for the violence, drawing condemnation from both fellow Republicans and Democrats for failing to single out the white nationalists. \"\n        ],\n        \"semantic_type\": \"\",\n        \"description\": \"\"\n      }\n    }\n  ]\n}",
              "type": "dataframe",
              "variable_name": "df"
            },
            "text/html": [
              "\n",
              "  <div id=\"df-2a9d1b22-0dfe-4684-bc9a-62fab2e9579e\" class=\"colab-df-container\">\n",
              "    <div>\n",
              "<style scoped>\n",
              "    .dataframe tbody tr th:only-of-type {\n",
              "        vertical-align: middle;\n",
              "    }\n",
              "\n",
              "    .dataframe tbody tr th {\n",
              "        vertical-align: top;\n",
              "    }\n",
              "\n",
              "    .dataframe thead th {\n",
              "        text-align: right;\n",
              "    }\n",
              "</style>\n",
              "<table border=\"1\" class=\"dataframe\">\n",
              "  <thead>\n",
              "    <tr style=\"text-align: right;\">\n",
              "      <th></th>\n",
              "      <th>title</th>\n",
              "      <th>text</th>\n",
              "      <th>label</th>\n",
              "      <th>text_processed</th>\n",
              "      <th>final_news</th>\n",
              "    </tr>\n",
              "  </thead>\n",
              "  <tbody>\n",
              "    <tr>\n",
              "      <th>0</th>\n",
              "      <td>As U.S. budget fight looms, Republicans flip t...</td>\n",
              "      <td>WASHINGTON (Reuters) - The head of a conservat...</td>\n",
              "      <td>TRUE</td>\n",
              "      <td>The head of a conservative Republican faction ...</td>\n",
              "      <td>As U.S. budget fight looms, Republicans flip t...</td>\n",
              "    </tr>\n",
              "    <tr>\n",
              "      <th>1</th>\n",
              "      <td>U.S. military to accept transgender recruits o...</td>\n",
              "      <td>WASHINGTON (Reuters) - Transgender people will...</td>\n",
              "      <td>TRUE</td>\n",
              "      <td>Transgender people will be allowed for the fir...</td>\n",
              "      <td>U.S. military to accept transgender recruits o...</td>\n",
              "    </tr>\n",
              "    <tr>\n",
              "      <th>2</th>\n",
              "      <td>Senior U.S. Republican senator: 'Let Mr. Muell...</td>\n",
              "      <td>WASHINGTON (Reuters) - The special counsel inv...</td>\n",
              "      <td>TRUE</td>\n",
              "      <td>The special counsel investigation of links bet...</td>\n",
              "      <td>Senior U.S. Republican senator: 'Let Mr. Muell...</td>\n",
              "    </tr>\n",
              "    <tr>\n",
              "      <th>3</th>\n",
              "      <td>FBI Russia probe helped by Australian diplomat...</td>\n",
              "      <td>WASHINGTON (Reuters) - Trump campaign adviser ...</td>\n",
              "      <td>TRUE</td>\n",
              "      <td>Trump campaign adviser George Papadopoulos tol...</td>\n",
              "      <td>FBI Russia probe helped by Australian diplomat...</td>\n",
              "    </tr>\n",
              "    <tr>\n",
              "      <th>4</th>\n",
              "      <td>Trump wants Postal Service to charge 'much mor...</td>\n",
              "      <td>SEATTLE/WASHINGTON (Reuters) - President Donal...</td>\n",
              "      <td>TRUE</td>\n",
              "      <td>President Donald Trump called on the U.S. Post...</td>\n",
              "      <td>Trump wants Postal Service to charge 'much mor...</td>\n",
              "    </tr>\n",
              "  </tbody>\n",
              "</table>\n",
              "</div>\n",
              "    <div class=\"colab-df-buttons\">\n",
              "\n",
              "  <div class=\"colab-df-container\">\n",
              "    <button class=\"colab-df-convert\" onclick=\"convertToInteractive('df-2a9d1b22-0dfe-4684-bc9a-62fab2e9579e')\"\n",
              "            title=\"Convert this dataframe to an interactive table.\"\n",
              "            style=\"display:none;\">\n",
              "\n",
              "  <svg xmlns=\"http://www.w3.org/2000/svg\" height=\"24px\" viewBox=\"0 -960 960 960\">\n",
              "    <path d=\"M120-120v-720h720v720H120Zm60-500h600v-160H180v160Zm220 220h160v-160H400v160Zm0 220h160v-160H400v160ZM180-400h160v-160H180v160Zm440 0h160v-160H620v160ZM180-180h160v-160H180v160Zm440 0h160v-160H620v160Z\"/>\n",
              "  </svg>\n",
              "    </button>\n",
              "\n",
              "  <style>\n",
              "    .colab-df-container {\n",
              "      display:flex;\n",
              "      gap: 12px;\n",
              "    }\n",
              "\n",
              "    .colab-df-convert {\n",
              "      background-color: #E8F0FE;\n",
              "      border: none;\n",
              "      border-radius: 50%;\n",
              "      cursor: pointer;\n",
              "      display: none;\n",
              "      fill: #1967D2;\n",
              "      height: 32px;\n",
              "      padding: 0 0 0 0;\n",
              "      width: 32px;\n",
              "    }\n",
              "\n",
              "    .colab-df-convert:hover {\n",
              "      background-color: #E2EBFA;\n",
              "      box-shadow: 0px 1px 2px rgba(60, 64, 67, 0.3), 0px 1px 3px 1px rgba(60, 64, 67, 0.15);\n",
              "      fill: #174EA6;\n",
              "    }\n",
              "\n",
              "    .colab-df-buttons div {\n",
              "      margin-bottom: 4px;\n",
              "    }\n",
              "\n",
              "    [theme=dark] .colab-df-convert {\n",
              "      background-color: #3B4455;\n",
              "      fill: #D2E3FC;\n",
              "    }\n",
              "\n",
              "    [theme=dark] .colab-df-convert:hover {\n",
              "      background-color: #434B5C;\n",
              "      box-shadow: 0px 1px 3px 1px rgba(0, 0, 0, 0.15);\n",
              "      filter: drop-shadow(0px 1px 2px rgba(0, 0, 0, 0.3));\n",
              "      fill: #FFFFFF;\n",
              "    }\n",
              "  </style>\n",
              "\n",
              "    <script>\n",
              "      const buttonEl =\n",
              "        document.querySelector('#df-2a9d1b22-0dfe-4684-bc9a-62fab2e9579e button.colab-df-convert');\n",
              "      buttonEl.style.display =\n",
              "        google.colab.kernel.accessAllowed ? 'block' : 'none';\n",
              "\n",
              "      async function convertToInteractive(key) {\n",
              "        const element = document.querySelector('#df-2a9d1b22-0dfe-4684-bc9a-62fab2e9579e');\n",
              "        const dataTable =\n",
              "          await google.colab.kernel.invokeFunction('convertToInteractive',\n",
              "                                                    [key], {});\n",
              "        if (!dataTable) return;\n",
              "\n",
              "        const docLinkHtml = 'Like what you see? Visit the ' +\n",
              "          '<a target=\"_blank\" href=https://colab.research.google.com/notebooks/data_table.ipynb>data table notebook</a>'\n",
              "          + ' to learn more about interactive tables.';\n",
              "        element.innerHTML = '';\n",
              "        dataTable['output_type'] = 'display_data';\n",
              "        await google.colab.output.renderOutput(dataTable, element);\n",
              "        const docLink = document.createElement('div');\n",
              "        docLink.innerHTML = docLinkHtml;\n",
              "        element.appendChild(docLink);\n",
              "      }\n",
              "    </script>\n",
              "  </div>\n",
              "\n",
              "\n",
              "<div id=\"df-9098aa03-9cb6-4cc2-a8f7-ce8638dfc137\">\n",
              "  <button class=\"colab-df-quickchart\" onclick=\"quickchart('df-9098aa03-9cb6-4cc2-a8f7-ce8638dfc137')\"\n",
              "            title=\"Suggest charts\"\n",
              "            style=\"display:none;\">\n",
              "\n",
              "<svg xmlns=\"http://www.w3.org/2000/svg\" height=\"24px\"viewBox=\"0 0 24 24\"\n",
              "     width=\"24px\">\n",
              "    <g>\n",
              "        <path d=\"M19 3H5c-1.1 0-2 .9-2 2v14c0 1.1.9 2 2 2h14c1.1 0 2-.9 2-2V5c0-1.1-.9-2-2-2zM9 17H7v-7h2v7zm4 0h-2V7h2v10zm4 0h-2v-4h2v4z\"/>\n",
              "    </g>\n",
              "</svg>\n",
              "  </button>\n",
              "\n",
              "<style>\n",
              "  .colab-df-quickchart {\n",
              "      --bg-color: #E8F0FE;\n",
              "      --fill-color: #1967D2;\n",
              "      --hover-bg-color: #E2EBFA;\n",
              "      --hover-fill-color: #174EA6;\n",
              "      --disabled-fill-color: #AAA;\n",
              "      --disabled-bg-color: #DDD;\n",
              "  }\n",
              "\n",
              "  [theme=dark] .colab-df-quickchart {\n",
              "      --bg-color: #3B4455;\n",
              "      --fill-color: #D2E3FC;\n",
              "      --hover-bg-color: #434B5C;\n",
              "      --hover-fill-color: #FFFFFF;\n",
              "      --disabled-bg-color: #3B4455;\n",
              "      --disabled-fill-color: #666;\n",
              "  }\n",
              "\n",
              "  .colab-df-quickchart {\n",
              "    background-color: var(--bg-color);\n",
              "    border: none;\n",
              "    border-radius: 50%;\n",
              "    cursor: pointer;\n",
              "    display: none;\n",
              "    fill: var(--fill-color);\n",
              "    height: 32px;\n",
              "    padding: 0;\n",
              "    width: 32px;\n",
              "  }\n",
              "\n",
              "  .colab-df-quickchart:hover {\n",
              "    background-color: var(--hover-bg-color);\n",
              "    box-shadow: 0 1px 2px rgba(60, 64, 67, 0.3), 0 1px 3px 1px rgba(60, 64, 67, 0.15);\n",
              "    fill: var(--button-hover-fill-color);\n",
              "  }\n",
              "\n",
              "  .colab-df-quickchart-complete:disabled,\n",
              "  .colab-df-quickchart-complete:disabled:hover {\n",
              "    background-color: var(--disabled-bg-color);\n",
              "    fill: var(--disabled-fill-color);\n",
              "    box-shadow: none;\n",
              "  }\n",
              "\n",
              "  .colab-df-spinner {\n",
              "    border: 2px solid var(--fill-color);\n",
              "    border-color: transparent;\n",
              "    border-bottom-color: var(--fill-color);\n",
              "    animation:\n",
              "      spin 1s steps(1) infinite;\n",
              "  }\n",
              "\n",
              "  @keyframes spin {\n",
              "    0% {\n",
              "      border-color: transparent;\n",
              "      border-bottom-color: var(--fill-color);\n",
              "      border-left-color: var(--fill-color);\n",
              "    }\n",
              "    20% {\n",
              "      border-color: transparent;\n",
              "      border-left-color: var(--fill-color);\n",
              "      border-top-color: var(--fill-color);\n",
              "    }\n",
              "    30% {\n",
              "      border-color: transparent;\n",
              "      border-left-color: var(--fill-color);\n",
              "      border-top-color: var(--fill-color);\n",
              "      border-right-color: var(--fill-color);\n",
              "    }\n",
              "    40% {\n",
              "      border-color: transparent;\n",
              "      border-right-color: var(--fill-color);\n",
              "      border-top-color: var(--fill-color);\n",
              "    }\n",
              "    60% {\n",
              "      border-color: transparent;\n",
              "      border-right-color: var(--fill-color);\n",
              "    }\n",
              "    80% {\n",
              "      border-color: transparent;\n",
              "      border-right-color: var(--fill-color);\n",
              "      border-bottom-color: var(--fill-color);\n",
              "    }\n",
              "    90% {\n",
              "      border-color: transparent;\n",
              "      border-bottom-color: var(--fill-color);\n",
              "    }\n",
              "  }\n",
              "</style>\n",
              "\n",
              "  <script>\n",
              "    async function quickchart(key) {\n",
              "      const quickchartButtonEl =\n",
              "        document.querySelector('#' + key + ' button');\n",
              "      quickchartButtonEl.disabled = true;  // To prevent multiple clicks.\n",
              "      quickchartButtonEl.classList.add('colab-df-spinner');\n",
              "      try {\n",
              "        const charts = await google.colab.kernel.invokeFunction(\n",
              "            'suggestCharts', [key], {});\n",
              "      } catch (error) {\n",
              "        console.error('Error during call to suggestCharts:', error);\n",
              "      }\n",
              "      quickchartButtonEl.classList.remove('colab-df-spinner');\n",
              "      quickchartButtonEl.classList.add('colab-df-quickchart-complete');\n",
              "    }\n",
              "    (() => {\n",
              "      let quickchartButtonEl =\n",
              "        document.querySelector('#df-9098aa03-9cb6-4cc2-a8f7-ce8638dfc137 button');\n",
              "      quickchartButtonEl.style.display =\n",
              "        google.colab.kernel.accessAllowed ? 'block' : 'none';\n",
              "    })();\n",
              "  </script>\n",
              "</div>\n",
              "\n",
              "    </div>\n",
              "  </div>\n"
            ],
            "text/plain": [
              "                                               title  \\\n",
              "0  As U.S. budget fight looms, Republicans flip t...   \n",
              "1  U.S. military to accept transgender recruits o...   \n",
              "2  Senior U.S. Republican senator: 'Let Mr. Muell...   \n",
              "3  FBI Russia probe helped by Australian diplomat...   \n",
              "4  Trump wants Postal Service to charge 'much mor...   \n",
              "\n",
              "                                                text label  \\\n",
              "0  WASHINGTON (Reuters) - The head of a conservat...  TRUE   \n",
              "1  WASHINGTON (Reuters) - Transgender people will...  TRUE   \n",
              "2  WASHINGTON (Reuters) - The special counsel inv...  TRUE   \n",
              "3  WASHINGTON (Reuters) - Trump campaign adviser ...  TRUE   \n",
              "4  SEATTLE/WASHINGTON (Reuters) - President Donal...  TRUE   \n",
              "\n",
              "                                      text_processed  \\\n",
              "0  The head of a conservative Republican faction ...   \n",
              "1  Transgender people will be allowed for the fir...   \n",
              "2  The special counsel investigation of links bet...   \n",
              "3  Trump campaign adviser George Papadopoulos tol...   \n",
              "4  President Donald Trump called on the U.S. Post...   \n",
              "\n",
              "                                          final_news  \n",
              "0  As U.S. budget fight looms, Republicans flip t...  \n",
              "1  U.S. military to accept transgender recruits o...  \n",
              "2  Senior U.S. Republican senator: 'Let Mr. Muell...  \n",
              "3  FBI Russia probe helped by Australian diplomat...  \n",
              "4  Trump wants Postal Service to charge 'much mor...  "
            ]
          },
          "execution_count": 6,
          "metadata": {},
          "output_type": "execute_result"
        }
      ],
      "source": [
        "#combining text_processed and title for creating full news article with headline\n",
        "df['final_news'] = df['title'] + \" \" + df['text_processed']\n",
        "df.head()"
      ]
    },
    {
      "cell_type": "code",
      "execution_count": null,
      "metadata": {
        "colab": {
          "base_uri": "https://localhost:8080/",
          "height": 206
        },
        "id": "1MhX3ZOP_3n6",
        "outputId": "1b9ec430-6a86-408e-b77d-286c8b8fa9d9"
      },
      "outputs": [
        {
          "data": {
            "application/vnd.google.colaboratory.intrinsic+json": {
              "summary": "{\n  \"name\": \"df\",\n  \"rows\": 44967,\n  \"fields\": [\n    {\n      \"column\": \"label\",\n      \"properties\": {\n        \"dtype\": \"category\",\n        \"num_unique_values\": 2,\n        \"samples\": [\n          \"FAKE\",\n          \"TRUE\"\n        ],\n        \"semantic_type\": \"\",\n        \"description\": \"\"\n      }\n    },\n    {\n      \"column\": \"final_news\",\n      \"properties\": {\n        \"dtype\": \"string\",\n        \"num_unique_values\": 39156,\n        \"samples\": [\n          \"No sign U.S. wants to cancel nuclear deal with Iran: German minister German Foreign Minister Sigmar Gabriel said it was necessary to do everything possible to make progress on the nuclear deal with Iran and that he did not see any indications during a visit to the United States that Washington would terminate it. U.S. President Donald Trump said earlier on Thursday that \\u201cnothing is off the table\\u201d in dealing with Iran following its test launch of a ballistic missile. \",\n          \"Violence prompts U.S. Congress to discuss militant threats A U.S. congressional panel next month will hold a hearing on violent extremism, including threats from domestic militants, following a white supremacist rally in Charlottesville, Virginia, that turned deadly. The chairman of the U.S. House of Representatives Homeland Security Committee, Republican Michael McCaul, announced the Sept. 12 hearing in a letter to the panel\\u2019s top Democrat, Bennie Thompson. The committee holds a hearing once a year, around the anniversary of the Sept. 11, 2001, attacks, to discuss worldwide threats. A committee aide said the Charlottesville protests had  prompted the decision to broaden the hearing to include threats from domestic militants. But Thompson said the move was \\u201cnot adequate or appropriate\\u201d to address his request for a hearing on threats from white supremacists and neo-Nazi groups. \\u201cThe September 12 hearing to cover worldwide threats is an annual hearing that was already scheduled prior to the domestic attacks this weekend,\\u201d Thompson said. \\u201cIt will not allow us to go into the depth necessary to address the far-ranging and multifaceted aspects of the threat posed by domestic terrorist threats from white supremacist and neo-Nazi groups.\\u201d The Homeland Security Committee will invite leaders of the Homeland Security Department, the Federal Bureau of Investigation and the National Counterterrorism Center, McCaul said. \\u201cWe must stand together and reject racism, bigotry, and prejudice, including the hateful ideologies promoted by neo-Nazis, the KKK, and all other white supremacy groups,\\u201d McCaul wrote in his response to Democrats\\u2019 request for a hearing. A 32-year-old woman was killed on Saturday in Charlottesville when a car plowed into a rival protest to white supremacist demonstrators. A 20-year-old Ohio man said to have harbored Nazi sympathies has been charged with murder.  President Donald Trump on Tuesday said both sides were to blame for the violence, drawing condemnation from both fellow Republicans and Democrats for failing to single out the white nationalists. \"\n        ],\n        \"semantic_type\": \"\",\n        \"description\": \"\"\n      }\n    }\n  ]\n}",
              "type": "dataframe",
              "variable_name": "df"
            },
            "text/html": [
              "\n",
              "  <div id=\"df-a422a256-fe3d-4e5f-aed0-a48354207033\" class=\"colab-df-container\">\n",
              "    <div>\n",
              "<style scoped>\n",
              "    .dataframe tbody tr th:only-of-type {\n",
              "        vertical-align: middle;\n",
              "    }\n",
              "\n",
              "    .dataframe tbody tr th {\n",
              "        vertical-align: top;\n",
              "    }\n",
              "\n",
              "    .dataframe thead th {\n",
              "        text-align: right;\n",
              "    }\n",
              "</style>\n",
              "<table border=\"1\" class=\"dataframe\">\n",
              "  <thead>\n",
              "    <tr style=\"text-align: right;\">\n",
              "      <th></th>\n",
              "      <th>label</th>\n",
              "      <th>final_news</th>\n",
              "    </tr>\n",
              "  </thead>\n",
              "  <tbody>\n",
              "    <tr>\n",
              "      <th>0</th>\n",
              "      <td>TRUE</td>\n",
              "      <td>As U.S. budget fight looms, Republicans flip t...</td>\n",
              "    </tr>\n",
              "    <tr>\n",
              "      <th>1</th>\n",
              "      <td>TRUE</td>\n",
              "      <td>U.S. military to accept transgender recruits o...</td>\n",
              "    </tr>\n",
              "    <tr>\n",
              "      <th>2</th>\n",
              "      <td>TRUE</td>\n",
              "      <td>Senior U.S. Republican senator: 'Let Mr. Muell...</td>\n",
              "    </tr>\n",
              "    <tr>\n",
              "      <th>3</th>\n",
              "      <td>TRUE</td>\n",
              "      <td>FBI Russia probe helped by Australian diplomat...</td>\n",
              "    </tr>\n",
              "    <tr>\n",
              "      <th>4</th>\n",
              "      <td>TRUE</td>\n",
              "      <td>Trump wants Postal Service to charge 'much mor...</td>\n",
              "    </tr>\n",
              "  </tbody>\n",
              "</table>\n",
              "</div>\n",
              "    <div class=\"colab-df-buttons\">\n",
              "\n",
              "  <div class=\"colab-df-container\">\n",
              "    <button class=\"colab-df-convert\" onclick=\"convertToInteractive('df-a422a256-fe3d-4e5f-aed0-a48354207033')\"\n",
              "            title=\"Convert this dataframe to an interactive table.\"\n",
              "            style=\"display:none;\">\n",
              "\n",
              "  <svg xmlns=\"http://www.w3.org/2000/svg\" height=\"24px\" viewBox=\"0 -960 960 960\">\n",
              "    <path d=\"M120-120v-720h720v720H120Zm60-500h600v-160H180v160Zm220 220h160v-160H400v160Zm0 220h160v-160H400v160ZM180-400h160v-160H180v160Zm440 0h160v-160H620v160ZM180-180h160v-160H180v160Zm440 0h160v-160H620v160Z\"/>\n",
              "  </svg>\n",
              "    </button>\n",
              "\n",
              "  <style>\n",
              "    .colab-df-container {\n",
              "      display:flex;\n",
              "      gap: 12px;\n",
              "    }\n",
              "\n",
              "    .colab-df-convert {\n",
              "      background-color: #E8F0FE;\n",
              "      border: none;\n",
              "      border-radius: 50%;\n",
              "      cursor: pointer;\n",
              "      display: none;\n",
              "      fill: #1967D2;\n",
              "      height: 32px;\n",
              "      padding: 0 0 0 0;\n",
              "      width: 32px;\n",
              "    }\n",
              "\n",
              "    .colab-df-convert:hover {\n",
              "      background-color: #E2EBFA;\n",
              "      box-shadow: 0px 1px 2px rgba(60, 64, 67, 0.3), 0px 1px 3px 1px rgba(60, 64, 67, 0.15);\n",
              "      fill: #174EA6;\n",
              "    }\n",
              "\n",
              "    .colab-df-buttons div {\n",
              "      margin-bottom: 4px;\n",
              "    }\n",
              "\n",
              "    [theme=dark] .colab-df-convert {\n",
              "      background-color: #3B4455;\n",
              "      fill: #D2E3FC;\n",
              "    }\n",
              "\n",
              "    [theme=dark] .colab-df-convert:hover {\n",
              "      background-color: #434B5C;\n",
              "      box-shadow: 0px 1px 3px 1px rgba(0, 0, 0, 0.15);\n",
              "      filter: drop-shadow(0px 1px 2px rgba(0, 0, 0, 0.3));\n",
              "      fill: #FFFFFF;\n",
              "    }\n",
              "  </style>\n",
              "\n",
              "    <script>\n",
              "      const buttonEl =\n",
              "        document.querySelector('#df-a422a256-fe3d-4e5f-aed0-a48354207033 button.colab-df-convert');\n",
              "      buttonEl.style.display =\n",
              "        google.colab.kernel.accessAllowed ? 'block' : 'none';\n",
              "\n",
              "      async function convertToInteractive(key) {\n",
              "        const element = document.querySelector('#df-a422a256-fe3d-4e5f-aed0-a48354207033');\n",
              "        const dataTable =\n",
              "          await google.colab.kernel.invokeFunction('convertToInteractive',\n",
              "                                                    [key], {});\n",
              "        if (!dataTable) return;\n",
              "\n",
              "        const docLinkHtml = 'Like what you see? Visit the ' +\n",
              "          '<a target=\"_blank\" href=https://colab.research.google.com/notebooks/data_table.ipynb>data table notebook</a>'\n",
              "          + ' to learn more about interactive tables.';\n",
              "        element.innerHTML = '';\n",
              "        dataTable['output_type'] = 'display_data';\n",
              "        await google.colab.output.renderOutput(dataTable, element);\n",
              "        const docLink = document.createElement('div');\n",
              "        docLink.innerHTML = docLinkHtml;\n",
              "        element.appendChild(docLink);\n",
              "      }\n",
              "    </script>\n",
              "  </div>\n",
              "\n",
              "\n",
              "<div id=\"df-36640b0d-8350-4905-9114-3c89748d043f\">\n",
              "  <button class=\"colab-df-quickchart\" onclick=\"quickchart('df-36640b0d-8350-4905-9114-3c89748d043f')\"\n",
              "            title=\"Suggest charts\"\n",
              "            style=\"display:none;\">\n",
              "\n",
              "<svg xmlns=\"http://www.w3.org/2000/svg\" height=\"24px\"viewBox=\"0 0 24 24\"\n",
              "     width=\"24px\">\n",
              "    <g>\n",
              "        <path d=\"M19 3H5c-1.1 0-2 .9-2 2v14c0 1.1.9 2 2 2h14c1.1 0 2-.9 2-2V5c0-1.1-.9-2-2-2zM9 17H7v-7h2v7zm4 0h-2V7h2v10zm4 0h-2v-4h2v4z\"/>\n",
              "    </g>\n",
              "</svg>\n",
              "  </button>\n",
              "\n",
              "<style>\n",
              "  .colab-df-quickchart {\n",
              "      --bg-color: #E8F0FE;\n",
              "      --fill-color: #1967D2;\n",
              "      --hover-bg-color: #E2EBFA;\n",
              "      --hover-fill-color: #174EA6;\n",
              "      --disabled-fill-color: #AAA;\n",
              "      --disabled-bg-color: #DDD;\n",
              "  }\n",
              "\n",
              "  [theme=dark] .colab-df-quickchart {\n",
              "      --bg-color: #3B4455;\n",
              "      --fill-color: #D2E3FC;\n",
              "      --hover-bg-color: #434B5C;\n",
              "      --hover-fill-color: #FFFFFF;\n",
              "      --disabled-bg-color: #3B4455;\n",
              "      --disabled-fill-color: #666;\n",
              "  }\n",
              "\n",
              "  .colab-df-quickchart {\n",
              "    background-color: var(--bg-color);\n",
              "    border: none;\n",
              "    border-radius: 50%;\n",
              "    cursor: pointer;\n",
              "    display: none;\n",
              "    fill: var(--fill-color);\n",
              "    height: 32px;\n",
              "    padding: 0;\n",
              "    width: 32px;\n",
              "  }\n",
              "\n",
              "  .colab-df-quickchart:hover {\n",
              "    background-color: var(--hover-bg-color);\n",
              "    box-shadow: 0 1px 2px rgba(60, 64, 67, 0.3), 0 1px 3px 1px rgba(60, 64, 67, 0.15);\n",
              "    fill: var(--button-hover-fill-color);\n",
              "  }\n",
              "\n",
              "  .colab-df-quickchart-complete:disabled,\n",
              "  .colab-df-quickchart-complete:disabled:hover {\n",
              "    background-color: var(--disabled-bg-color);\n",
              "    fill: var(--disabled-fill-color);\n",
              "    box-shadow: none;\n",
              "  }\n",
              "\n",
              "  .colab-df-spinner {\n",
              "    border: 2px solid var(--fill-color);\n",
              "    border-color: transparent;\n",
              "    border-bottom-color: var(--fill-color);\n",
              "    animation:\n",
              "      spin 1s steps(1) infinite;\n",
              "  }\n",
              "\n",
              "  @keyframes spin {\n",
              "    0% {\n",
              "      border-color: transparent;\n",
              "      border-bottom-color: var(--fill-color);\n",
              "      border-left-color: var(--fill-color);\n",
              "    }\n",
              "    20% {\n",
              "      border-color: transparent;\n",
              "      border-left-color: var(--fill-color);\n",
              "      border-top-color: var(--fill-color);\n",
              "    }\n",
              "    30% {\n",
              "      border-color: transparent;\n",
              "      border-left-color: var(--fill-color);\n",
              "      border-top-color: var(--fill-color);\n",
              "      border-right-color: var(--fill-color);\n",
              "    }\n",
              "    40% {\n",
              "      border-color: transparent;\n",
              "      border-right-color: var(--fill-color);\n",
              "      border-top-color: var(--fill-color);\n",
              "    }\n",
              "    60% {\n",
              "      border-color: transparent;\n",
              "      border-right-color: var(--fill-color);\n",
              "    }\n",
              "    80% {\n",
              "      border-color: transparent;\n",
              "      border-right-color: var(--fill-color);\n",
              "      border-bottom-color: var(--fill-color);\n",
              "    }\n",
              "    90% {\n",
              "      border-color: transparent;\n",
              "      border-bottom-color: var(--fill-color);\n",
              "    }\n",
              "  }\n",
              "</style>\n",
              "\n",
              "  <script>\n",
              "    async function quickchart(key) {\n",
              "      const quickchartButtonEl =\n",
              "        document.querySelector('#' + key + ' button');\n",
              "      quickchartButtonEl.disabled = true;  // To prevent multiple clicks.\n",
              "      quickchartButtonEl.classList.add('colab-df-spinner');\n",
              "      try {\n",
              "        const charts = await google.colab.kernel.invokeFunction(\n",
              "            'suggestCharts', [key], {});\n",
              "      } catch (error) {\n",
              "        console.error('Error during call to suggestCharts:', error);\n",
              "      }\n",
              "      quickchartButtonEl.classList.remove('colab-df-spinner');\n",
              "      quickchartButtonEl.classList.add('colab-df-quickchart-complete');\n",
              "    }\n",
              "    (() => {\n",
              "      let quickchartButtonEl =\n",
              "        document.querySelector('#df-36640b0d-8350-4905-9114-3c89748d043f button');\n",
              "      quickchartButtonEl.style.display =\n",
              "        google.colab.kernel.accessAllowed ? 'block' : 'none';\n",
              "    })();\n",
              "  </script>\n",
              "</div>\n",
              "\n",
              "    </div>\n",
              "  </div>\n"
            ],
            "text/plain": [
              "  label                                         final_news\n",
              "0  TRUE  As U.S. budget fight looms, Republicans flip t...\n",
              "1  TRUE  U.S. military to accept transgender recruits o...\n",
              "2  TRUE  Senior U.S. Republican senator: 'Let Mr. Muell...\n",
              "3  TRUE  FBI Russia probe helped by Australian diplomat...\n",
              "4  TRUE  Trump wants Postal Service to charge 'much mor..."
            ]
          },
          "execution_count": 7,
          "metadata": {},
          "output_type": "execute_result"
        }
      ],
      "source": [
        "# now we can delete extra columns\n",
        "cols_del =['title','text','text_processed']\n",
        "df = df.drop(cols_del,axis=1)\n",
        "\n",
        "df.head()"
      ]
    },
    {
      "cell_type": "code",
      "execution_count": null,
      "metadata": {
        "id": "RpjqdmBO_6Jj"
      },
      "outputs": [],
      "source": [
        "#creating list of possible stopwords from nltk library\n",
        "stop = stopwords.words('english')\n",
        "\n",
        "def cleanText(txt):\n",
        "  # lowercaing\n",
        "    txt = txt.lower()\n",
        "  # removing stopwords\n",
        "    txt = ' '.join([word for word in txt.split() if word not in (stop)])\n",
        "  # removing non-alphabetic characters\n",
        "    txt = re.sub('[^a-z]',' ',txt)\n",
        "    return txt"
      ]
    },
    {
      "cell_type": "code",
      "execution_count": null,
      "metadata": {
        "colab": {
          "base_uri": "https://localhost:8080/",
          "height": 206
        },
        "id": "OBQQStlW_57g",
        "outputId": "f631a5cd-d0e1-4b96-f4cb-80083036773a"
      },
      "outputs": [
        {
          "data": {
            "application/vnd.google.colaboratory.intrinsic+json": {
              "summary": "{\n  \"name\": \"df\",\n  \"rows\": 44967,\n  \"fields\": [\n    {\n      \"column\": \"label\",\n      \"properties\": {\n        \"dtype\": \"category\",\n        \"num_unique_values\": 2,\n        \"samples\": [\n          \"FAKE\",\n          \"TRUE\"\n        ],\n        \"semantic_type\": \"\",\n        \"description\": \"\"\n      }\n    },\n    {\n      \"column\": \"final_news\",\n      \"properties\": {\n        \"dtype\": \"string\",\n        \"num_unique_values\": 39150,\n        \"samples\": [\n          \"stunning disregard law     ca counties registered voters voting age citizens look voted last election but  b fair ask voter id says party dominates states refuse cooperate trump election commission  corruption exposed post election voting investigations  begin understand many democrat pundits liberal media outlets sure hillary election bag  eleven counties california registered voters voting age adults county judicial watch announced sent notice of violation letter state california    counties threatening sue federal court clean voter registration lists mandated national voter registration act  nvra   nvra federal help america vote act require states take reasonable steps maintain accurate voting rolls  august   letter sent behalf several judicial watch california supporters election integrity project california  inc in letter  judicial watch noted public records obtained election assistance commission      election administration voting survey verbal accounts various county agencies show    california counties registered voters voting age citizens  imperial         lassen         los angeles         monterey         san diego         san francisco         san mateo         santa cruz         solano         stanislaus         yolo        in letter  judicial watch noted los angeles county officials informed us total number registered voters stands number whopping      total number resident citizens voting age  remember huffington post denied voter fraud actual thing america  calling hillary clinton   the candidate clearly benefitted illegal voting practices  legitimate president elect  section   nvra  states required make reasonable effort remove names ineligible voters official lists due death registrant change residence registrant  requires states ensure noncitizens registered vote there strong circumstantial evidence california municipalities conducting reasonable voter registration list maintenance mandated nvra  judicial watch wrote notice letter sent california secretary state alex padilla  via  judicial watch\",\n          \"hillary bashed trump saying may accept election results  video shows telling cnn host gore shouldn t conceded      election results last night third debate  fox news chris wallace asked donald j  trump would accept election results  multiple stories voter fraud committed democrats across nation video  see below  proving dnc hillary campaign coordinating criminals plan massive voter fraud  would trump make statement willing accept outcome election regardless may won  hillary chastised trump legitimate concerns potential voter fraud swing election  admonishment carried every mainstream media outlet  wait al gore election result here exchange here hillary discussing al gore contested election cnn larry king  everything seen heard  ah people intend vote vice president al gore  hope still opportunity votes counted  think best whoever inaugurated  watch al gore announce press conference       continue contest results election even suggests republicans committed voter fraud hotly contested      election george w  bush al gore even goes far suggest gop prevented blacks voting  a common democratic party tactic   makes perfectly clear concede election supreme court makes decision election and recently  hillary nodding agreement small crowd supporters chant won  featured guest  professional liar con man al gore https   youtu be xpywiyvso mwatch jr  senator barack obama suggest results florida supreme court decision bush gore election incorrect  challenging election results  watch video tell us would accept results election race close hillary wins \"\n        ],\n        \"semantic_type\": \"\",\n        \"description\": \"\"\n      }\n    }\n  ]\n}",
              "type": "dataframe",
              "variable_name": "df"
            },
            "text/html": [
              "\n",
              "  <div id=\"df-902b8fea-519e-4ef3-9924-9900ecf46bcb\" class=\"colab-df-container\">\n",
              "    <div>\n",
              "<style scoped>\n",
              "    .dataframe tbody tr th:only-of-type {\n",
              "        vertical-align: middle;\n",
              "    }\n",
              "\n",
              "    .dataframe tbody tr th {\n",
              "        vertical-align: top;\n",
              "    }\n",
              "\n",
              "    .dataframe thead th {\n",
              "        text-align: right;\n",
              "    }\n",
              "</style>\n",
              "<table border=\"1\" class=\"dataframe\">\n",
              "  <thead>\n",
              "    <tr style=\"text-align: right;\">\n",
              "      <th></th>\n",
              "      <th>label</th>\n",
              "      <th>final_news</th>\n",
              "    </tr>\n",
              "  </thead>\n",
              "  <tbody>\n",
              "    <tr>\n",
              "      <th>0</th>\n",
              "      <td>TRUE</td>\n",
              "      <td>u s  budget fight looms  republicans flip fisc...</td>\n",
              "    </tr>\n",
              "    <tr>\n",
              "      <th>1</th>\n",
              "      <td>TRUE</td>\n",
              "      <td>u s  military accept transgender recruits mond...</td>\n",
              "    </tr>\n",
              "    <tr>\n",
              "      <th>2</th>\n",
              "      <td>TRUE</td>\n",
              "      <td>senior u s  republican senator   let mr  muell...</td>\n",
              "    </tr>\n",
              "    <tr>\n",
              "      <th>3</th>\n",
              "      <td>TRUE</td>\n",
              "      <td>fbi russia probe helped australian diplomat ti...</td>\n",
              "    </tr>\n",
              "    <tr>\n",
              "      <th>4</th>\n",
              "      <td>TRUE</td>\n",
              "      <td>trump wants postal service charge  much more  ...</td>\n",
              "    </tr>\n",
              "  </tbody>\n",
              "</table>\n",
              "</div>\n",
              "    <div class=\"colab-df-buttons\">\n",
              "\n",
              "  <div class=\"colab-df-container\">\n",
              "    <button class=\"colab-df-convert\" onclick=\"convertToInteractive('df-902b8fea-519e-4ef3-9924-9900ecf46bcb')\"\n",
              "            title=\"Convert this dataframe to an interactive table.\"\n",
              "            style=\"display:none;\">\n",
              "\n",
              "  <svg xmlns=\"http://www.w3.org/2000/svg\" height=\"24px\" viewBox=\"0 -960 960 960\">\n",
              "    <path d=\"M120-120v-720h720v720H120Zm60-500h600v-160H180v160Zm220 220h160v-160H400v160Zm0 220h160v-160H400v160ZM180-400h160v-160H180v160Zm440 0h160v-160H620v160ZM180-180h160v-160H180v160Zm440 0h160v-160H620v160Z\"/>\n",
              "  </svg>\n",
              "    </button>\n",
              "\n",
              "  <style>\n",
              "    .colab-df-container {\n",
              "      display:flex;\n",
              "      gap: 12px;\n",
              "    }\n",
              "\n",
              "    .colab-df-convert {\n",
              "      background-color: #E8F0FE;\n",
              "      border: none;\n",
              "      border-radius: 50%;\n",
              "      cursor: pointer;\n",
              "      display: none;\n",
              "      fill: #1967D2;\n",
              "      height: 32px;\n",
              "      padding: 0 0 0 0;\n",
              "      width: 32px;\n",
              "    }\n",
              "\n",
              "    .colab-df-convert:hover {\n",
              "      background-color: #E2EBFA;\n",
              "      box-shadow: 0px 1px 2px rgba(60, 64, 67, 0.3), 0px 1px 3px 1px rgba(60, 64, 67, 0.15);\n",
              "      fill: #174EA6;\n",
              "    }\n",
              "\n",
              "    .colab-df-buttons div {\n",
              "      margin-bottom: 4px;\n",
              "    }\n",
              "\n",
              "    [theme=dark] .colab-df-convert {\n",
              "      background-color: #3B4455;\n",
              "      fill: #D2E3FC;\n",
              "    }\n",
              "\n",
              "    [theme=dark] .colab-df-convert:hover {\n",
              "      background-color: #434B5C;\n",
              "      box-shadow: 0px 1px 3px 1px rgba(0, 0, 0, 0.15);\n",
              "      filter: drop-shadow(0px 1px 2px rgba(0, 0, 0, 0.3));\n",
              "      fill: #FFFFFF;\n",
              "    }\n",
              "  </style>\n",
              "\n",
              "    <script>\n",
              "      const buttonEl =\n",
              "        document.querySelector('#df-902b8fea-519e-4ef3-9924-9900ecf46bcb button.colab-df-convert');\n",
              "      buttonEl.style.display =\n",
              "        google.colab.kernel.accessAllowed ? 'block' : 'none';\n",
              "\n",
              "      async function convertToInteractive(key) {\n",
              "        const element = document.querySelector('#df-902b8fea-519e-4ef3-9924-9900ecf46bcb');\n",
              "        const dataTable =\n",
              "          await google.colab.kernel.invokeFunction('convertToInteractive',\n",
              "                                                    [key], {});\n",
              "        if (!dataTable) return;\n",
              "\n",
              "        const docLinkHtml = 'Like what you see? Visit the ' +\n",
              "          '<a target=\"_blank\" href=https://colab.research.google.com/notebooks/data_table.ipynb>data table notebook</a>'\n",
              "          + ' to learn more about interactive tables.';\n",
              "        element.innerHTML = '';\n",
              "        dataTable['output_type'] = 'display_data';\n",
              "        await google.colab.output.renderOutput(dataTable, element);\n",
              "        const docLink = document.createElement('div');\n",
              "        docLink.innerHTML = docLinkHtml;\n",
              "        element.appendChild(docLink);\n",
              "      }\n",
              "    </script>\n",
              "  </div>\n",
              "\n",
              "\n",
              "<div id=\"df-cc38ed9f-4232-4b27-a065-aa4f39286509\">\n",
              "  <button class=\"colab-df-quickchart\" onclick=\"quickchart('df-cc38ed9f-4232-4b27-a065-aa4f39286509')\"\n",
              "            title=\"Suggest charts\"\n",
              "            style=\"display:none;\">\n",
              "\n",
              "<svg xmlns=\"http://www.w3.org/2000/svg\" height=\"24px\"viewBox=\"0 0 24 24\"\n",
              "     width=\"24px\">\n",
              "    <g>\n",
              "        <path d=\"M19 3H5c-1.1 0-2 .9-2 2v14c0 1.1.9 2 2 2h14c1.1 0 2-.9 2-2V5c0-1.1-.9-2-2-2zM9 17H7v-7h2v7zm4 0h-2V7h2v10zm4 0h-2v-4h2v4z\"/>\n",
              "    </g>\n",
              "</svg>\n",
              "  </button>\n",
              "\n",
              "<style>\n",
              "  .colab-df-quickchart {\n",
              "      --bg-color: #E8F0FE;\n",
              "      --fill-color: #1967D2;\n",
              "      --hover-bg-color: #E2EBFA;\n",
              "      --hover-fill-color: #174EA6;\n",
              "      --disabled-fill-color: #AAA;\n",
              "      --disabled-bg-color: #DDD;\n",
              "  }\n",
              "\n",
              "  [theme=dark] .colab-df-quickchart {\n",
              "      --bg-color: #3B4455;\n",
              "      --fill-color: #D2E3FC;\n",
              "      --hover-bg-color: #434B5C;\n",
              "      --hover-fill-color: #FFFFFF;\n",
              "      --disabled-bg-color: #3B4455;\n",
              "      --disabled-fill-color: #666;\n",
              "  }\n",
              "\n",
              "  .colab-df-quickchart {\n",
              "    background-color: var(--bg-color);\n",
              "    border: none;\n",
              "    border-radius: 50%;\n",
              "    cursor: pointer;\n",
              "    display: none;\n",
              "    fill: var(--fill-color);\n",
              "    height: 32px;\n",
              "    padding: 0;\n",
              "    width: 32px;\n",
              "  }\n",
              "\n",
              "  .colab-df-quickchart:hover {\n",
              "    background-color: var(--hover-bg-color);\n",
              "    box-shadow: 0 1px 2px rgba(60, 64, 67, 0.3), 0 1px 3px 1px rgba(60, 64, 67, 0.15);\n",
              "    fill: var(--button-hover-fill-color);\n",
              "  }\n",
              "\n",
              "  .colab-df-quickchart-complete:disabled,\n",
              "  .colab-df-quickchart-complete:disabled:hover {\n",
              "    background-color: var(--disabled-bg-color);\n",
              "    fill: var(--disabled-fill-color);\n",
              "    box-shadow: none;\n",
              "  }\n",
              "\n",
              "  .colab-df-spinner {\n",
              "    border: 2px solid var(--fill-color);\n",
              "    border-color: transparent;\n",
              "    border-bottom-color: var(--fill-color);\n",
              "    animation:\n",
              "      spin 1s steps(1) infinite;\n",
              "  }\n",
              "\n",
              "  @keyframes spin {\n",
              "    0% {\n",
              "      border-color: transparent;\n",
              "      border-bottom-color: var(--fill-color);\n",
              "      border-left-color: var(--fill-color);\n",
              "    }\n",
              "    20% {\n",
              "      border-color: transparent;\n",
              "      border-left-color: var(--fill-color);\n",
              "      border-top-color: var(--fill-color);\n",
              "    }\n",
              "    30% {\n",
              "      border-color: transparent;\n",
              "      border-left-color: var(--fill-color);\n",
              "      border-top-color: var(--fill-color);\n",
              "      border-right-color: var(--fill-color);\n",
              "    }\n",
              "    40% {\n",
              "      border-color: transparent;\n",
              "      border-right-color: var(--fill-color);\n",
              "      border-top-color: var(--fill-color);\n",
              "    }\n",
              "    60% {\n",
              "      border-color: transparent;\n",
              "      border-right-color: var(--fill-color);\n",
              "    }\n",
              "    80% {\n",
              "      border-color: transparent;\n",
              "      border-right-color: var(--fill-color);\n",
              "      border-bottom-color: var(--fill-color);\n",
              "    }\n",
              "    90% {\n",
              "      border-color: transparent;\n",
              "      border-bottom-color: var(--fill-color);\n",
              "    }\n",
              "  }\n",
              "</style>\n",
              "\n",
              "  <script>\n",
              "    async function quickchart(key) {\n",
              "      const quickchartButtonEl =\n",
              "        document.querySelector('#' + key + ' button');\n",
              "      quickchartButtonEl.disabled = true;  // To prevent multiple clicks.\n",
              "      quickchartButtonEl.classList.add('colab-df-spinner');\n",
              "      try {\n",
              "        const charts = await google.colab.kernel.invokeFunction(\n",
              "            'suggestCharts', [key], {});\n",
              "      } catch (error) {\n",
              "        console.error('Error during call to suggestCharts:', error);\n",
              "      }\n",
              "      quickchartButtonEl.classList.remove('colab-df-spinner');\n",
              "      quickchartButtonEl.classList.add('colab-df-quickchart-complete');\n",
              "    }\n",
              "    (() => {\n",
              "      let quickchartButtonEl =\n",
              "        document.querySelector('#df-cc38ed9f-4232-4b27-a065-aa4f39286509 button');\n",
              "      quickchartButtonEl.style.display =\n",
              "        google.colab.kernel.accessAllowed ? 'block' : 'none';\n",
              "    })();\n",
              "  </script>\n",
              "</div>\n",
              "\n",
              "    </div>\n",
              "  </div>\n"
            ],
            "text/plain": [
              "  label                                         final_news\n",
              "0  TRUE  u s  budget fight looms  republicans flip fisc...\n",
              "1  TRUE  u s  military accept transgender recruits mond...\n",
              "2  TRUE  senior u s  republican senator   let mr  muell...\n",
              "3  TRUE  fbi russia probe helped australian diplomat ti...\n",
              "4  TRUE  trump wants postal service charge  much more  ..."
            ]
          },
          "execution_count": 9,
          "metadata": {},
          "output_type": "execute_result"
        }
      ],
      "source": [
        "#applying text cleaning function to clean final_news\n",
        "df['final_news'] = df['final_news'].apply(cleanText)\n",
        "df.head()"
      ]
    },
    {
      "cell_type": "code",
      "execution_count": null,
      "metadata": {
        "id": "YJEj45HX_5rT"
      },
      "outputs": [],
      "source": [
        "path = '/content/drive/MyDrive'\n",
        "\n",
        "EMBEDDING_FILE=f'{path}/glove.6B.100d.txt'\n",
        "\n",
        "# configuration setting\n",
        "MAX_SEQUENCE_LENGTH = 100\n",
        "MAX_VOCAB_SIZE = 20000\n",
        "EMBEDDING_DIM = 100\n",
        "VALIDATION_SPLIT = 0.2\n",
        "BATCH_SIZE = 32\n",
        "EPOCHS = 10"
      ]
    },
    {
      "cell_type": "code",
      "execution_count": null,
      "metadata": {
        "id": "itc4sDG7_5dz"
      },
      "outputs": [],
      "source": [
        "y = df['label'].values\n",
        "X = df.drop(['label'],axis=1)\n"
      ]
    },
    {
      "cell_type": "code",
      "execution_count": null,
      "metadata": {
        "colab": {
          "base_uri": "https://localhost:8080/"
        },
        "id": "Wmrr7OQt_5O3",
        "outputId": "03cce089-d0df-42dd-aed1-ea19d5e2d967"
      },
      "outputs": [
        {
          "data": {
            "text/plain": [
              "(44967,)"
            ]
          },
          "execution_count": 23,
          "metadata": {},
          "output_type": "execute_result"
        }
      ],
      "source": [
        "y.shape"
      ]
    },
    {
      "cell_type": "code",
      "execution_count": null,
      "metadata": {
        "colab": {
          "base_uri": "https://localhost:8080/"
        },
        "id": "fAAYyEzJAOiL",
        "outputId": "efb2206e-df78-4a96-fee5-1d4808f52ae8"
      },
      "outputs": [
        {
          "name": "stdout",
          "output_type": "stream",
          "text": [
            "Loading word vectors...\n",
            "Found 400001 word vectors.\n"
          ]
        }
      ],
      "source": [
        "# load in pre-trained word vectors\n",
        "print('Loading word vectors...')\n",
        "word2vec = {}\n",
        "with open(EMBEDDING_FILE) as f:\n",
        "  # is just a space-separated text file in the format:\n",
        "  # word vec[0] vec[1] vec[2] ...\n",
        "  for line in f:\n",
        "    values = line.split()\n",
        "    word = values[0]\n",
        "    vec = np.asarray(values[1:], dtype='float32')\n",
        "    word2vec[word] = vec\n",
        "print('Found %s word vectors.' % len(word2vec))"
      ]
    },
    {
      "cell_type": "code",
      "execution_count": null,
      "metadata": {
        "colab": {
          "base_uri": "https://localhost:8080/"
        },
        "id": "95XljgUaAOY9",
        "outputId": "f029e383-2f5f-481b-f0d0-3649489c3d49"
      },
      "outputs": [
        {
          "name": "stdout",
          "output_type": "stream",
          "text": [
            "Shape of data tensor: (44967, 100)\n"
          ]
        }
      ],
      "source": [
        "# convert the sentences (strings) into integers\n",
        "tokenizer = Tokenizer(num_words=MAX_VOCAB_SIZE)\n",
        "tokenizer.fit_on_texts(list(X['final_news']))\n",
        "X = tokenizer.texts_to_sequences(list(X['final_news']))\n",
        "\n",
        "# pad sequences so that we get a N x T matrix\n",
        "X = pad_sequences(X, maxlen=MAX_SEQUENCE_LENGTH)\n",
        "print('Shape of data tensor:', X.shape)"
      ]
    },
    {
      "cell_type": "code",
      "execution_count": null,
      "metadata": {
        "colab": {
          "base_uri": "https://localhost:8080/"
        },
        "id": "26ZrOP0UAOMR",
        "outputId": "cb439d75-6736-4318-d1e3-786650266789"
      },
      "outputs": [
        {
          "name": "stdout",
          "output_type": "stream",
          "text": [
            "Found 115433 unique tokens.\n"
          ]
        }
      ],
      "source": [
        "# get word -> integer mapping\n",
        "word2idx = tokenizer.word_index\n",
        "print('Found %s unique tokens.' % len(word2idx))"
      ]
    },
    {
      "cell_type": "code",
      "execution_count": null,
      "metadata": {
        "colab": {
          "base_uri": "https://localhost:8080/"
        },
        "id": "9rV618VuAOAx",
        "outputId": "8ff8a8f8-d101-4084-8ed6-3abdc6f1dd79"
      },
      "outputs": [
        {
          "name": "stdout",
          "output_type": "stream",
          "text": [
            "Filling pre-trained embeddings...\n"
          ]
        }
      ],
      "source": [
        "# prepare embedding matrix\n",
        "print('Filling pre-trained embeddings...')\n",
        "num_words = min(MAX_VOCAB_SIZE, len(word2idx) + 1)\n",
        "embedding_matrix = np.zeros((num_words, EMBEDDING_DIM))\n",
        "for word, i in word2idx.items():\n",
        "  if i < MAX_VOCAB_SIZE:\n",
        "    embedding_vector = word2vec.get(word)\n",
        "    if embedding_vector is not None:\n",
        "      # words not found in embedding index will be all zeros.\n",
        "      embedding_matrix[i] = embedding_vector"
      ]
    },
    {
      "cell_type": "code",
      "execution_count": null,
      "metadata": {
        "id": "SNyeAgyCANyj"
      },
      "outputs": [],
      "source": [
        "# load pre-trained word embeddings into an Embedding layer\n",
        "# note that we set trainable = False so as to keep the embeddings fixed\n",
        "embedding_layer = Embedding(\n",
        "  input_dim=num_words,\n",
        "  output_dim=EMBEDDING_DIM,\n",
        "  weights=[embedding_matrix],\n",
        "  trainable=False\n",
        ")"
      ]
    },
    {
      "cell_type": "code",
      "execution_count": null,
      "metadata": {
        "colab": {
          "base_uri": "https://localhost:8080/",
          "height": 322
        },
        "id": "lhteZZ6aANn-",
        "outputId": "0c5d704a-01cb-4a04-cfc3-02f534135bf0"
      },
      "outputs": [
        {
          "name": "stdout",
          "output_type": "stream",
          "text": [
            "Building model...\n"
          ]
        },
        {
          "data": {
            "text/html": [
              "<pre style=\"white-space:pre;overflow-x:auto;line-height:normal;font-family:Menlo,'DejaVu Sans Mono',consolas,'Courier New',monospace\"><span style=\"font-weight: bold\">Model: \"functional\"</span>\n",
              "</pre>\n"
            ],
            "text/plain": [
              "\u001b[1mModel: \"functional\"\u001b[0m\n"
            ]
          },
          "metadata": {},
          "output_type": "display_data"
        },
        {
          "data": {
            "text/html": [
              "<pre style=\"white-space:pre;overflow-x:auto;line-height:normal;font-family:Menlo,'DejaVu Sans Mono',consolas,'Courier New',monospace\">┏━━━━━━━━━━━━━━━━━━━━━━━━━━━━━━━━━━━━━━┳━━━━━━━━━━━━━━━━━━━━━━━━━━━━━┳━━━━━━━━━━━━━━━━━┓\n",
              "┃<span style=\"font-weight: bold\"> Layer (type)                         </span>┃<span style=\"font-weight: bold\"> Output Shape                </span>┃<span style=\"font-weight: bold\">         Param # </span>┃\n",
              "┡━━━━━━━━━━━━━━━━━━━━━━━━━━━━━━━━━━━━━━╇━━━━━━━━━━━━━━━━━━━━━━━━━━━━━╇━━━━━━━━━━━━━━━━━┩\n",
              "│ input_layer (<span style=\"color: #0087ff; text-decoration-color: #0087ff\">InputLayer</span>)             │ (<span style=\"color: #00d7ff; text-decoration-color: #00d7ff\">None</span>, <span style=\"color: #00af00; text-decoration-color: #00af00\">100</span>)                 │               <span style=\"color: #00af00; text-decoration-color: #00af00\">0</span> │\n",
              "├──────────────────────────────────────┼─────────────────────────────┼─────────────────┤\n",
              "│ embedding_1 (<span style=\"color: #0087ff; text-decoration-color: #0087ff\">Embedding</span>)              │ (<span style=\"color: #00d7ff; text-decoration-color: #00d7ff\">None</span>, <span style=\"color: #00af00; text-decoration-color: #00af00\">100</span>, <span style=\"color: #00af00; text-decoration-color: #00af00\">100</span>)            │       <span style=\"color: #00af00; text-decoration-color: #00af00\">2,000,000</span> │\n",
              "├──────────────────────────────────────┼─────────────────────────────┼─────────────────┤\n",
              "│ bidirectional (<span style=\"color: #0087ff; text-decoration-color: #0087ff\">Bidirectional</span>)        │ (<span style=\"color: #00d7ff; text-decoration-color: #00d7ff\">None</span>, <span style=\"color: #00af00; text-decoration-color: #00af00\">100</span>, <span style=\"color: #00af00; text-decoration-color: #00af00\">30</span>)             │          <span style=\"color: #00af00; text-decoration-color: #00af00\">13,920</span> │\n",
              "├──────────────────────────────────────┼─────────────────────────────┼─────────────────┤\n",
              "│ global_max_pooling1d                 │ (<span style=\"color: #00d7ff; text-decoration-color: #00d7ff\">None</span>, <span style=\"color: #00af00; text-decoration-color: #00af00\">30</span>)                  │               <span style=\"color: #00af00; text-decoration-color: #00af00\">0</span> │\n",
              "│ (<span style=\"color: #0087ff; text-decoration-color: #0087ff\">GlobalMaxPooling1D</span>)                 │                             │                 │\n",
              "├──────────────────────────────────────┼─────────────────────────────┼─────────────────┤\n",
              "│ dense (<span style=\"color: #0087ff; text-decoration-color: #0087ff\">Dense</span>)                        │ (<span style=\"color: #00d7ff; text-decoration-color: #00d7ff\">None</span>, <span style=\"color: #00af00; text-decoration-color: #00af00\">1</span>)                   │              <span style=\"color: #00af00; text-decoration-color: #00af00\">31</span> │\n",
              "└──────────────────────────────────────┴─────────────────────────────┴─────────────────┘\n",
              "</pre>\n"
            ],
            "text/plain": [
              "┏━━━━━━━━━━━━━━━━━━━━━━━━━━━━━━━━━━━━━━┳━━━━━━━━━━━━━━━━━━━━━━━━━━━━━┳━━━━━━━━━━━━━━━━━┓\n",
              "┃\u001b[1m \u001b[0m\u001b[1mLayer (type)                        \u001b[0m\u001b[1m \u001b[0m┃\u001b[1m \u001b[0m\u001b[1mOutput Shape               \u001b[0m\u001b[1m \u001b[0m┃\u001b[1m \u001b[0m\u001b[1m        Param #\u001b[0m\u001b[1m \u001b[0m┃\n",
              "┡━━━━━━━━━━━━━━━━━━━━━━━━━━━━━━━━━━━━━━╇━━━━━━━━━━━━━━━━━━━━━━━━━━━━━╇━━━━━━━━━━━━━━━━━┩\n",
              "│ input_layer (\u001b[38;5;33mInputLayer\u001b[0m)             │ (\u001b[38;5;45mNone\u001b[0m, \u001b[38;5;34m100\u001b[0m)                 │               \u001b[38;5;34m0\u001b[0m │\n",
              "├──────────────────────────────────────┼─────────────────────────────┼─────────────────┤\n",
              "│ embedding_1 (\u001b[38;5;33mEmbedding\u001b[0m)              │ (\u001b[38;5;45mNone\u001b[0m, \u001b[38;5;34m100\u001b[0m, \u001b[38;5;34m100\u001b[0m)            │       \u001b[38;5;34m2,000,000\u001b[0m │\n",
              "├──────────────────────────────────────┼─────────────────────────────┼─────────────────┤\n",
              "│ bidirectional (\u001b[38;5;33mBidirectional\u001b[0m)        │ (\u001b[38;5;45mNone\u001b[0m, \u001b[38;5;34m100\u001b[0m, \u001b[38;5;34m30\u001b[0m)             │          \u001b[38;5;34m13,920\u001b[0m │\n",
              "├──────────────────────────────────────┼─────────────────────────────┼─────────────────┤\n",
              "│ global_max_pooling1d                 │ (\u001b[38;5;45mNone\u001b[0m, \u001b[38;5;34m30\u001b[0m)                  │               \u001b[38;5;34m0\u001b[0m │\n",
              "│ (\u001b[38;5;33mGlobalMaxPooling1D\u001b[0m)                 │                             │                 │\n",
              "├──────────────────────────────────────┼─────────────────────────────┼─────────────────┤\n",
              "│ dense (\u001b[38;5;33mDense\u001b[0m)                        │ (\u001b[38;5;45mNone\u001b[0m, \u001b[38;5;34m1\u001b[0m)                   │              \u001b[38;5;34m31\u001b[0m │\n",
              "└──────────────────────────────────────┴─────────────────────────────┴─────────────────┘\n"
            ]
          },
          "metadata": {},
          "output_type": "display_data"
        },
        {
          "data": {
            "text/html": [
              "<pre style=\"white-space:pre;overflow-x:auto;line-height:normal;font-family:Menlo,'DejaVu Sans Mono',consolas,'Courier New',monospace\"><span style=\"font-weight: bold\"> Total params: </span><span style=\"color: #00af00; text-decoration-color: #00af00\">2,013,951</span> (7.68 MB)\n",
              "</pre>\n"
            ],
            "text/plain": [
              "\u001b[1m Total params: \u001b[0m\u001b[38;5;34m2,013,951\u001b[0m (7.68 MB)\n"
            ]
          },
          "metadata": {},
          "output_type": "display_data"
        },
        {
          "data": {
            "text/html": [
              "<pre style=\"white-space:pre;overflow-x:auto;line-height:normal;font-family:Menlo,'DejaVu Sans Mono',consolas,'Courier New',monospace\"><span style=\"font-weight: bold\"> Trainable params: </span><span style=\"color: #00af00; text-decoration-color: #00af00\">13,951</span> (54.50 KB)\n",
              "</pre>\n"
            ],
            "text/plain": [
              "\u001b[1m Trainable params: \u001b[0m\u001b[38;5;34m13,951\u001b[0m (54.50 KB)\n"
            ]
          },
          "metadata": {},
          "output_type": "display_data"
        },
        {
          "data": {
            "text/html": [
              "<pre style=\"white-space:pre;overflow-x:auto;line-height:normal;font-family:Menlo,'DejaVu Sans Mono',consolas,'Courier New',monospace\"><span style=\"font-weight: bold\"> Non-trainable params: </span><span style=\"color: #00af00; text-decoration-color: #00af00\">2,000,000</span> (7.63 MB)\n",
              "</pre>\n"
            ],
            "text/plain": [
              "\u001b[1m Non-trainable params: \u001b[0m\u001b[38;5;34m2,000,000\u001b[0m (7.63 MB)\n"
            ]
          },
          "metadata": {},
          "output_type": "display_data"
        }
      ],
      "source": [
        "print('Building model...')\n",
        "\n",
        "# create an LSTM network with a single LSTM\n",
        "input_ = Input(shape=(MAX_SEQUENCE_LENGTH,))\n",
        "x = embedding_layer(input_)\n",
        "# x = LSTM(15, return_sequences=True)(x)\n",
        "x = Bidirectional(LSTM(15, return_sequences=True))(x)\n",
        "x = GlobalMaxPool1D()(x)\n",
        "output = Dense(1, activation=\"sigmoid\")(x)\n",
        "\n",
        "model = Model(input_, output)\n",
        "model.compile(\n",
        "  loss='binary_crossentropy',\n",
        "  optimizer='adam',\n",
        "  metrics=['accuracy']\n",
        ")\n",
        "model.summary()"
      ]
    },
    {
      "cell_type": "code",
      "execution_count": null,
      "metadata": {
        "id": "uWDIHZpVANa-"
      },
      "outputs": [],
      "source": [
        "X_train, X_test, y_train, y_test = train_test_split(X, y,test_size=0.20,stratify=y, random_state=0)"
      ]
    },
    {
      "cell_type": "code",
      "execution_count": null,
      "metadata": {
        "id": "YYUkMSwlhzOm"
      },
      "outputs": [],
      "source": [
        "# Convert y_train and y_test to numerical values (0 or 1)\n",
        "y_train = np.where(y_train == 'FAKE', 1, 0)  # Assuming 'FAKE' is 1 and 'TRUE' is 0\n",
        "y_test = np.where(y_test == 'FAKE', 1, 0)"
      ]
    },
    {
      "cell_type": "code",
      "execution_count": null,
      "metadata": {
        "colab": {
          "base_uri": "https://localhost:8080/"
        },
        "id": "8_Nwbr3SANOB",
        "outputId": "a82c8b99-a6b8-491d-b484-61d0e1513438"
      },
      "outputs": [
        {
          "name": "stdout",
          "output_type": "stream",
          "text": [
            "Training model...\n",
            "Epoch 1/10\n",
            "\u001b[1m900/900\u001b[0m \u001b[32m━━━━━━━━━━━━━━━━━━━━\u001b[0m\u001b[37m\u001b[0m \u001b[1m74s\u001b[0m 83ms/step - accuracy: 0.9965 - loss: 0.0114 - val_accuracy: 0.9883 - val_loss: 0.0365\n",
            "Epoch 2/10\n",
            "\u001b[1m900/900\u001b[0m \u001b[32m━━━━━━━━━━━━━━━━━━━━\u001b[0m\u001b[37m\u001b[0m \u001b[1m75s\u001b[0m 75ms/step - accuracy: 0.9983 - loss: 0.0082 - val_accuracy: 0.9887 - val_loss: 0.0370\n",
            "Epoch 3/10\n",
            "\u001b[1m900/900\u001b[0m \u001b[32m━━━━━━━━━━━━━━━━━━━━\u001b[0m\u001b[37m\u001b[0m \u001b[1m80s\u001b[0m 73ms/step - accuracy: 0.9984 - loss: 0.0067 - val_accuracy: 0.9872 - val_loss: 0.0454\n",
            "Epoch 4/10\n",
            "\u001b[1m900/900\u001b[0m \u001b[32m━━━━━━━━━━━━━━━━━━━━\u001b[0m\u001b[37m\u001b[0m \u001b[1m62s\u001b[0m 69ms/step - accuracy: 0.9990 - loss: 0.0052 - val_accuracy: 0.9886 - val_loss: 0.0432\n",
            "Epoch 5/10\n",
            "\u001b[1m900/900\u001b[0m \u001b[32m━━━━━━━━━━━━━━━━━━━━\u001b[0m\u001b[37m\u001b[0m \u001b[1m84s\u001b[0m 71ms/step - accuracy: 0.9989 - loss: 0.0052 - val_accuracy: 0.9883 - val_loss: 0.0395\n",
            "Epoch 6/10\n",
            "\u001b[1m900/900\u001b[0m \u001b[32m━━━━━━━━━━━━━━━━━━━━\u001b[0m\u001b[37m\u001b[0m \u001b[1m80s\u001b[0m 69ms/step - accuracy: 0.9982 - loss: 0.0075 - val_accuracy: 0.9890 - val_loss: 0.0430\n",
            "Epoch 7/10\n",
            "\u001b[1m900/900\u001b[0m \u001b[32m━━━━━━━━━━━━━━━━━━━━\u001b[0m\u001b[37m\u001b[0m \u001b[1m83s\u001b[0m 71ms/step - accuracy: 0.9992 - loss: 0.0037 - val_accuracy: 0.9901 - val_loss: 0.0425\n",
            "Epoch 8/10\n",
            "\u001b[1m900/900\u001b[0m \u001b[32m━━━━━━━━━━━━━━━━━━━━\u001b[0m\u001b[37m\u001b[0m \u001b[1m69s\u001b[0m 76ms/step - accuracy: 0.9997 - loss: 0.0024 - val_accuracy: 0.9883 - val_loss: 0.0436\n",
            "Epoch 9/10\n",
            "\u001b[1m900/900\u001b[0m \u001b[32m━━━━━━━━━━━━━━━━━━━━\u001b[0m\u001b[37m\u001b[0m \u001b[1m77s\u001b[0m 71ms/step - accuracy: 0.9993 - loss: 0.0036 - val_accuracy: 0.9904 - val_loss: 0.0379\n",
            "Epoch 10/10\n",
            "\u001b[1m900/900\u001b[0m \u001b[32m━━━━━━━━━━━━━━━━━━━━\u001b[0m\u001b[37m\u001b[0m \u001b[1m63s\u001b[0m 70ms/step - accuracy: 0.9997 - loss: 0.0024 - val_accuracy: 0.9899 - val_loss: 0.0410\n"
          ]
        }
      ],
      "source": [
        "print('Training model...')\n",
        "r = model.fit(\n",
        "  X_train,\n",
        "  y_train,\n",
        "  batch_size=BATCH_SIZE,\n",
        "  epochs=EPOCHS,\n",
        "  validation_split=VALIDATION_SPLIT\n",
        ")"
      ]
    },
    {
      "cell_type": "code",
      "execution_count": null,
      "metadata": {
        "colab": {
          "base_uri": "https://localhost:8080/",
          "height": 383
        },
        "id": "uZ4oCRKSANAZ",
        "outputId": "45564201-3c08-45d5-c174-5c755c1c2c51"
      },
      "outputs": [
        {
          "data": {
            "image/png": "[encoded data removed]",
            "text/plain": [
              "<Figure size 1500x500 with 2 Axes>"
            ]
          },
          "metadata": {},
          "output_type": "display_data"
        }
      ],
      "source": [
        "acc = r.history['accuracy']\n",
        "val_acc = r.history['val_accuracy']\n",
        "loss = r.history['loss']\n",
        "val_loss = r.history['val_loss']\n",
        "epochs_range = range(1, len(r.epoch) + 1)\n",
        "\n",
        "plt.figure(figsize=(15,5))\n",
        "\n",
        "plt.subplot(1, 2, 1)\n",
        "plt.plot(epochs_range, acc, label='Train Set')\n",
        "plt.plot(epochs_range, val_acc, label='Val Set')\n",
        "plt.legend(loc=\"best\")\n",
        "plt.xlabel('Epochs')\n",
        "plt.ylabel('Accuracy')\n",
        "plt.title('LSTM Model Accuracy')\n",
        "\n",
        "plt.subplot(1, 2, 2)\n",
        "plt.plot(epochs_range, loss, label='Train Set')\n",
        "plt.plot(epochs_range, val_loss, label='Val Set')\n",
        "plt.legend(loc=\"best\")\n",
        "plt.xlabel('Epochs')\n",
        "plt.ylabel('Loss')\n",
        "plt.title('LSTM Model Loss')\n",
        "\n",
        "plt.tight_layout()\n",
        "plt.show()"
      ]
    },
    {
      "cell_type": "code",
      "execution_count": null,
      "metadata": {
        "colab": {
          "base_uri": "https://localhost:8080/",
          "height": 430
        },
        "id": "6SyS6FpMAtoU",
        "outputId": "b278b76d-474a-4cdd-8aff-55fcfc9873b8"
      },
      "outputs": [
        {
          "data": {
            "image/png": "[encoded data removed]",
            "text/plain": [
              "<Figure size 640x480 with 1 Axes>"
            ]
          },
          "metadata": {},
          "output_type": "display_data"
        }
      ],
      "source": [
        "# plot some data\n",
        "plt.plot(r.history['loss'], label='loss')\n",
        "plt.plot(r.history['val_loss'], label='val_loss')\n",
        "plt.legend()\n",
        "plt.show()"
      ]
    },
    {
      "cell_type": "code",
      "execution_count": null,
      "metadata": {
        "colab": {
          "base_uri": "https://localhost:8080/",
          "height": 432
        },
        "id": "QKjhQwGnAtX1",
        "outputId": "5c873350-a3fb-4bfd-9c8f-c1ea8467202e"
      },
      "outputs": [
        {
          "data": {
            "image/png": "[encoded data removed]",
            "text/plain": [
              "<Figure size 640x480 with 1 Axes>"
            ]
          },
          "metadata": {},
          "output_type": "display_data"
        }
      ],
      "source": [
        "# Plotting accuracies\n",
        "plt.plot(r.history['accuracy'], label='acc')\n",
        "plt.plot(r.history['val_accuracy'], label='val_acc')\n",
        "plt.legend()\n",
        "plt.show()"
      ]
    },
    {
      "cell_type": "code",
      "execution_count": null,
      "metadata": {
        "colab": {
          "base_uri": "https://localhost:8080/"
        },
        "id": "jbXyouLsAs2E",
        "outputId": "7f45e2ef-7cb1-4923-b211-5f8645f49b2f"
      },
      "outputs": [
        {
          "name": "stdout",
          "output_type": "stream",
          "text": [
            "\u001b[1m1125/1125\u001b[0m \u001b[32m━━━━━━━━━━━━━━━━━━━━\u001b[0m\u001b[37m\u001b[0m \u001b[1m21s\u001b[0m 19ms/step - accuracy: 0.9997 - loss: 0.0019\n",
            "Accuracy of the model on Training Data is -  99.78594779968262\n",
            "\u001b[1m282/282\u001b[0m \u001b[32m━━━━━━━━━━━━━━━━━━━━\u001b[0m\u001b[37m\u001b[0m \u001b[1m5s\u001b[0m 17ms/step - accuracy: 0.9882 - loss: 0.0429\n",
            "Accuracy of the model on Testing Data is -  98.83255362510681\n"
          ]
        }
      ],
      "source": [
        "print(\"Accuracy of the model on Training Data is - \" , model.evaluate(X_train,y_train)[1]*100)\n",
        "print(\"Accuracy of the model on Testing Data is - \" , model.evaluate(X_test,y_test)[1]*100)"
      ]
    },
    {
      "cell_type": "code",
      "execution_count": null,
      "metadata": {
        "colab": {
          "base_uri": "https://localhost:8080/"
        },
        "id": "-vntJ79kAso2",
        "outputId": "557ec841-b65f-4a66-bb68-483e3a164866"
      },
      "outputs": [
        {
          "name": "stdout",
          "output_type": "stream",
          "text": [
            "\u001b[1m282/282\u001b[0m \u001b[32m━━━━━━━━━━━━━━━━━━━━\u001b[0m\u001b[37m\u001b[0m \u001b[1m6s\u001b[0m 21ms/step\n"
          ]
        },
        {
          "data": {
            "text/plain": [
              "array([[1.0000000e+00],\n",
              "       [1.0000000e+00],\n",
              "       [1.0000000e+00],\n",
              "       [3.9112424e-06],\n",
              "       [1.0000000e+00]], dtype=float32)"
            ]
          },
          "execution_count": 40,
          "metadata": {},
          "output_type": "execute_result"
        }
      ],
      "source": [
        "pred = model.predict(X_test)\n",
        "pred[:5]"
      ]
    },
    {
      "cell_type": "markdown",
      "metadata": {
        "id": "R5DZlJORq1vq"
      },
      "source": [
        "#Confusion Matrix"
      ]
    },
    {
      "cell_type": "code",
      "execution_count": null,
      "metadata": {
        "colab": {
          "base_uri": "https://localhost:8080/",
          "height": 388
        },
        "id": "0myFY9hIAscp",
        "outputId": "136cd7bb-cf3e-4a36-a6e4-a15751a9c523"
      },
      "outputs": [
        {
          "data": {
            "image/png": "[encoded data removed]",
            "text/plain": [
              "<Figure size 600x400 with 2 Axes>"
            ]
          },
          "metadata": {},
          "output_type": "display_data"
        }
      ],
      "source": [
        "cm = confusion_matrix(y_test,pred.round())\n",
        "cm = pd.DataFrame(cm , index = ['TRUE','FAKE'] , columns = ['TRUE','FAKE'])\n",
        "plt.figure(figsize = (6,4))\n",
        "sns.heatmap(cm,cmap= \"Blues\", linecolor = 'black' , linewidth = 1 , annot = True, fmt='' , xticklabels = ['TRUE','FAKE'] , yticklabels = ['TRUE','FAKE'])\n",
        "plt.ylabel('Actual')\n",
        "plt.xlabel('Predicted')\n",
        "plt.show()"
      ]
    },
    {
      "cell_type": "markdown",
      "metadata": {
        "id": "4736PxoWq5gD"
      },
      "source": [
        "#Classification Report"
      ]
    },
    {
      "cell_type": "code",
      "execution_count": null,
      "metadata": {
        "colab": {
          "base_uri": "https://localhost:8080/"
        },
        "id": "cIHZmVbwAsP8",
        "outputId": "8a465c6a-6007-4454-aad4-8c427d4f2090"
      },
      "outputs": [
        {
          "name": "stdout",
          "output_type": "stream",
          "text": [
            "              precision    recall  f1-score   support\n",
            "\n",
            "           0       0.99      0.99      0.99      4294\n",
            "           1       0.99      0.99      0.99      4700\n",
            "\n",
            "    accuracy                           0.99      8994\n",
            "   macro avg       0.99      0.99      0.99      8994\n",
            "weighted avg       0.99      0.99      0.99      8994\n",
            "\n"
          ]
        }
      ],
      "source": [
        "print(classification_report(y_test,pred.round()))"
      ]
    },
    {
      "cell_type": "code",
      "execution_count": null,
      "metadata": {
        "colab": {
          "base_uri": "https://localhost:8080/"
        },
        "id": "kRA01FOaAsCr",
        "outputId": "0894b644-e528-4904-eaa7-cb2528b43abd"
      },
      "outputs": [
        {
          "name": "stdout",
          "output_type": "stream",
          "text": [
            "\u001b[1m282/282\u001b[0m \u001b[32m━━━━━━━━━━━━━━━━━━━━\u001b[0m\u001b[37m\u001b[0m \u001b[1m5s\u001b[0m 17ms/step\n"
          ]
        }
      ],
      "source": [
        "y_pred = model.predict(X_test).ravel()"
      ]
    },
    {
      "cell_type": "markdown",
      "metadata": {
        "id": "685iRardqoM2"
      },
      "source": [
        "#ROC AUC PLOT"
      ]
    },
    {
      "cell_type": "code",
      "execution_count": null,
      "metadata": {
        "colab": {
          "base_uri": "https://localhost:8080/",
          "height": 718
        },
        "id": "Ydybwt03BNG2",
        "outputId": "895ad2e5-bd02-4751-f773-32dd88aa3bf9"
      },
      "outputs": [
        {
          "data": {
            "image/png": "[encoded data removed]",
            "text/plain": [
              "<Figure size 1200x800 with 1 Axes>"
            ]
          },
          "metadata": {},
          "output_type": "display_data"
        }
      ],
      "source": [
        "def roc_auc_plot(y_true, y_proba, label=' ', l='-', lw=1.0):\n",
        "    from sklearn.metrics import roc_curve, roc_auc_score\n",
        "    fpr, tpr, _ = roc_curve(y_true, y_proba)\n",
        "    ax.plot(fpr, tpr, linestyle=l, linewidth=lw,\n",
        "            label=\"%s (area=%.3f)\"%(label,roc_auc_score(y_true, y_proba)))\n",
        "\n",
        "f, ax = plt.subplots(figsize=(12,8))\n",
        "\n",
        "roc_auc_plot(y_test,y_pred,label='LSTM', l='-')\n",
        "\n",
        "\n",
        "\n",
        "ax.plot([0,1], [0,1], color='k', linewidth=0.8, linestyle='--',\n",
        "        )\n",
        "ax.legend(loc=\"lower right\")\n",
        "ax.set_xlabel('False Positive Rate')\n",
        "ax.set_ylabel('True Positive Rate')\n",
        "ax.set_xlim([0, 1])\n",
        "ax.set_ylim([0, 1])\n",
        "ax.set_title('Receiver Operator Characteristic curves')\n",
        "sns.despine()"
      ]
    },
    {
      "cell_type": "markdown",
      "metadata": {
        "id": "erF7tQ4UqWgS"
      },
      "source": [
        "#Model prediction"
      ]
    },
    {
      "cell_type": "code",
      "execution_count": null,
      "metadata": {
        "colab": {
          "base_uri": "https://localhost:8080/"
        },
        "id": "iFCGHN_gsGP9",
        "outputId": "38c17af2-0db2-496c-ba41-e15a37ea00c8"
      },
      "outputs": [
        {
          "name": "stdout",
          "output_type": "stream",
          "text": [
            "\u001b[1m1/1\u001b[0m \u001b[32m━━━━━━━━━━━━━━━━━━━━\u001b[0m\u001b[37m\u001b[0m \u001b[1m0s\u001b[0m 52ms/step\n"
          ]
        }
      ],
      "source": [
        "# Function for batch predictions with confidence scores\n",
        "def predict_text(lst_text):\n",
        "    test = tokenizer.texts_to_sequences(lst_text)\n",
        "\n",
        "    # Pad sequences to match training input shape\n",
        "    testX = pad_sequences(test, maxlen=MAX_SEQUENCE_LENGTH)\n",
        "\n",
        "    # Create DataFrame with original sentences\n",
        "    df_test = pd.DataFrame(lst_text, columns=['test_sent'])\n",
        "\n",
        "    # Get predictions (output is probability)\n",
        "    prediction_prob = model.predict(testX)\n",
        "\n",
        "    # Convert probability to Fake/Real label\n",
        "    df_test['prediction'] = prediction_prob\n",
        "    df_test['confidence'] = df_test['prediction'].apply(lambda x: f\"{x*100:.2f}%\")  # Confidence %\n",
        "    df_test['prediction'] = df_test['prediction'].apply(lambda x: \"Fake\" if x >= 0.5 else \"Real\")\n",
        "\n",
        "    return df_test\n",
        "\n",
        "test_sentences =[\"Trey Gowdy destroys this clueless DHS employee when asking about the due process of getting on the terror watch list. Her response is priceless:  I m sorry, um, there s not a process afforded the citizen prior to getting on the list.  \",\n",
        "       \"Poland s new prime minister faces a difficult balancing act trying to repair bruised relations with the European Union without alienating the eurosceptic government s core voters. A Western-educated former banker who is fluent in German and English and was sworn in on Monday, Mateusz Morawiecki boasts the credentials needed to negotiate with Brussels. But any compromises to improve relations with Brussels, which sees the ruling Law and Justice (PiS) party as a threat to democracy, would risk upsetting the traditional, Catholic supporters who propelled it into power two years ago. It is a gamble that could backfire, and it is not yet clear how far Morawiecki, 49, and his party, dominated by former Prime Minister Jaroslaw Kaczynski, are ready to go to please Brussels.   The idea to build up international credibility seems rational,  said Jaroslaw Flis, a sociologist at the Jagiellonian University.  But such actions would have to be in complete contrast with what Mateusz Morawiecki would have to do domestically to prevent the PiS from falling apart.  The PiS government has alienated many people at home and abroad with its nationalist rhetoric and changes to state institutions which the EU says subvert the bloc s laws. The European Commission, the EU executive, opened an inquiry into the rule of law in Poland in January 2016 and the European Parliament has started a process that could deprive Poland of its voting rights in the 28-nation bloc. Any hope in Brussels that Morawiecki s appointment signals a change of course by PiS will have been tempered by Polish parliament approving legal changes to the judiciary in defiance of the EU on Friday - the day after his nomination. The changes give parliament, where PiS has a majority, de facto control over the selection of judges. EU leaders looking for clues about Morawiecki s plans will also have taken little comfort from comments he has made since being nominated, making clear he backs a tough line on the EU and believes in PiS s traditional vision of the Polish state.   We want to transform Europe, this is my dream, to re-christianise it,  Morawiecki told the Catholic Radio Maryja broadcaster.  We want Poland to be strong, but also to contain ... Christian values. We will defend them against the background of laicisation and a deepening consumerism.  Asked by the radio interviewer about demands by French President Emmanuel Macron for Poland to face sanctions over a subversion of democratic rules, Morawiecki said he would not  bow down to blackmail.  In comments to parliament on Tuesday, Morawiecki suggested Poland might relent in a conflict with Brussels over logging in an ancient forest, which an EU court has said contravenes EU laws. But he said Poland s national interests came first in any debate over the future of the EU and that he  wholeheartedly  supported PiS s overhaul of the judiciary. Like Beata Szydlo, whom he replaced as prime minister, Morawiecki is likely to have to defer to PiS leader and co-founder Jaroslaw Kaczynski. Prime minister from July 2006 to November 2007, Kaczynski is widely seen as the power behind the party and Poland s main decision-maker. How much scope that will leave Morawiecki to carve out his own path remains to be seen. Former Polish President Lech Walesa, a PiS critic, has suggested that nothing of substance will change.  The circus has stayed the same, only the clowns have changed their roles,  Walesa, who led the Solidarity trade union movement that ended communist rule, said on Twitter.  The appointment of Morawiecki, whose father founded and led a radical offshoot of Solidarity in the 1980s, appears designed in part to present a new face of Poland to the EU. Szydlo, 54, at times responded angrily to EU criticism and relations with the bloc soured under her government. Underlining PiS opposition to Muslim immigration, she said last month Poland wanted to be sure Christian traditions were not subject to  ideological censorship  in the EU. Along with Hungary, Poland has refused to take in any of its quota of the wave of refugees from Syria and elsewhere who have come to Europe since 2015, on the grounds that Muslim immigrants are a threat to national security and stability.         Such comments appeal to core PiS voters, and Szydlo s government, which promised generous welfare payouts and a dedication to traditional Catholic values, was one of Poland s most popular since communist rule ended in 1989. A relative newcomer to politics, Morawiecki lacks Szydlo s broad appeal. But he has overseen significant economic achievements since becoming finance minister in 2016, a position he has retained in the new government. Tusk has welcomed what he sees as signs that Morawiecki is a liberal economist who wants better ties with the EU.  There is no doubt that (Morawiecki s) liberal bias and some pro-western gestures could be a sign that there is a lurking desire to improve relations,  Tusk said last week. But an economic stimulus plan Morawiecki unveiled in 2016 has been criticized by economists who say it depends heavily on private investment, which is low in Poland despite fast economic growth.  What Morawiecki sees as a solution, meaning more political influence in the economy, is actually dangerous,  said Leszek Balcerowicz, a former finance minister who coordinated the transition to a market economy after decades of communist rule. Any hint of protectionism is also likely to worry EU leaders, who seek to break down trade barriers.  Morawiecki has called the privatization of state-owned companies a tragedy and said he will give more power to domestic capital at the expense of foreign investors. In his comments to parliament on Tuesday, he said economic policy should not change.  \",\n",
        "      ]\n",
        "df_testsent = predict_text(test_sentences)\n"
      ]
    },
    {
      "cell_type": "code",
      "execution_count": null,
      "metadata": {
        "id": "uhHtfeKEBZDe"
      },
      "outputs": [],
      "source": [
        "def cleanText(txt):\n",
        "    txt = txt.lower()\n",
        "    txt = ' '.join([word for word in txt.split() if word not in (stop)])\n",
        "    txt = re.sub('[^a-z]',' ',txt)\n",
        "    return txt"
      ]
    },
    {
      "cell_type": "code",
      "execution_count": null,
      "metadata": {
        "id": "-EWZQVPwBY29"
      },
      "outputs": [],
      "source": [
        "def predict_text(lst_text):\n",
        "    test = tokenizer.texts_to_sequences(lst_text)\n",
        "    # pad sequences so that we get a N x T matrix\n",
        "    testX = pad_sequences(test, maxlen=MAX_SEQUENCE_LENGTH)\n",
        "\n",
        "    prediction = model.predict(testX)\n",
        "    pd.DataFrame(lst_text, columns = ['test_sent'])['prediction']=prediction\n",
        "    pd.DataFrame(lst_text, columns = ['test_sent'])[\"test_sent\"] = pd.DataFrame(lst_text, columns = ['test_sent'])[\"test_sent\"].apply(cleanText)\n",
        "    pd.DataFrame(lst_text, columns = ['test_sent'])['prediction']=pd.DataFrame(lst_text, columns = ['test_sent'])['prediction'].apply(lambda x: \"Fake\" if x>=0.5 else \"Real\")\n",
        "    return pd.DataFrame(lst_text, columns = ['test_sent'])"
      ]
    },
    {
      "cell_type": "code",
      "execution_count": null,
      "metadata": {
        "colab": {
          "base_uri": "https://localhost:8080/"
        },
        "id": "s_RUVYPBBYuW",
        "outputId": "9e043b9d-1e20-4ac4-bbd0-aafc6d0235d6"
      },
      "outputs": [
        {
          "name": "stdout",
          "output_type": "stream",
          "text": [
            "<class 'pandas.core.frame.DataFrame'>\n",
            "                                           test_sent prediction confidence\n",
            "0  Trey Gowdy destroys this clueless DHS employee...       Fake    100.00%\n",
            "1  Poland s new prime minister faces a difficult ...       Real      0.07%\n"
          ]
        }
      ],
      "source": [
        "print(type(df_testsent))  # Check if it's a DataFrame\n",
        "print(df_testsent.head())  # Show first few rows"
      ]
    },
    {
      "cell_type": "code",
      "execution_count": null,
      "metadata": {
        "id": "YAYw6dK35Wao"
      },
      "outputs": [],
      "source": [
        "import tensorflow as tf\n",
        "\n",
        "# Save the trained model\n",
        "model.save(\"rumor_stance_model.keras\")\n"
      ]
    },
    {
      "cell_type": "code",
      "execution_count": null,
      "metadata": {
        "id": "d53OXDZz6yzY"
      },
      "outputs": [],
      "source": [
        "import pickle\n",
        "with open(\"tokenizer.pkl\", \"wb\") as handle:\n",
        "    pickle.dump(tokenizer, handle)\n"
      ]
    },
    {
      "cell_type": "code",
      "execution_count": 1,
      "metadata": {
        "colab": {
          "base_uri": "https://localhost:8080/",
          "height": 17
        },
        "id": "c0muP41862Ys",
        "outputId": "b7d5a572-1a27-4870-e1d1-59fa2613e766"
      },
      "outputs": [
        {
          "ename": "ModuleNotFoundError",
          "evalue": "No module named 'google.colab'",
          "output_type": "error",
          "traceback": [
            "\u001b[31m---------------------------------------------------------------------------\u001b[39m",
            "\u001b[31mModuleNotFoundError\u001b[39m                       Traceback (most recent call last)",
            "\u001b[36mCell\u001b[39m\u001b[36m \u001b[39m\u001b[32mIn[1]\u001b[39m\u001b[32m, line 1\u001b[39m\n\u001b[32m----> \u001b[39m\u001b[32m1\u001b[39m \u001b[38;5;28;01mfrom\u001b[39;00m\u001b[38;5;250m \u001b[39m\u001b[34;01mgoogle\u001b[39;00m\u001b[34;01m.\u001b[39;00m\u001b[34;01mcolab\u001b[39;00m\u001b[38;5;250m \u001b[39m\u001b[38;5;28;01mimport\u001b[39;00m files\n\u001b[32m      2\u001b[39m files.download(\u001b[33m\"\u001b[39m\u001b[33mrumor_stance_model.keras\u001b[39m\u001b[33m\"\u001b[39m)\n\u001b[32m      3\u001b[39m files.download(\u001b[33m\"\u001b[39m\u001b[33mtokenizer.pkl\u001b[39m\u001b[33m\"\u001b[39m)\n",
            "\u001b[31mModuleNotFoundError\u001b[39m: No module named 'google.colab'"
          ]
        }
      ],
      "source": [
        "from google.colab import files\n",
        "files.download(\"rumor_stance_model.keras\")\n",
        "files.download(\"tokenizer.pkl\")\n"
      ]
    },
    {
      "cell_type": "code",
      "execution_count": 8,
      "metadata": {},
      "outputs": [
        {
          "name": "stdout",
          "output_type": "stream",
          "text": [
            "Files in current directory:\n",
            "['fake_news_analysis.ipynb', 'rumor_stance_model (1).keras', 'rumor_stance_preprocessingdata.ipynb', 'Rumor_stance__detectionLSTM_.ipynb', 'tokenizer (1).pkl']\n"
          ]
        }
      ],
      "source": [
        "import os\n",
        "\n",
        "print(\"Files in current directory:\")\n",
        "print(os.listdir())\n"
      ]
    }
  ],
  "metadata": {
    "colab": {
      "provenance": []
    },
    "kernelspec": {
      "display_name": "venv",
      "language": "python",
      "name": "python3"
    },
    "language_info": {
      "codemirror_mode": {
        "name": "ipython",
        "version": 3
      },
      "file_extension": ".py",
      "mimetype": "text/x-python",
      "name": "python",
      "nbconvert_exporter": "python",
      "pygments_lexer": "ipython3",
      "version": "3.11.2"
    }
  },
  "nbformat": 4,
  "nbformat_minor": 0
}
